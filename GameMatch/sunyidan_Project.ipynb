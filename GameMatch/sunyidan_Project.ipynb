{
 "cells": [
  {
   "cell_type": "markdown",
   "id": "eaa06da4",
   "metadata": {},
   "source": [
    "## Project Proposal  \n",
    "### by Yidan Sun\n",
    "Introduction: Use Kaggle LOL 15 minutes match Diamond data (50000 in total) to train different classifiers(eliminate the less weighted features), analyze features and implement the final strategy that has the best accuracy."
   ]
  },
  {
   "cell_type": "code",
   "execution_count": 1,
   "id": "2b429658",
   "metadata": {},
   "outputs": [],
   "source": [
    "import numpy as np\n",
    "import pandas as pd\n",
    "import math\n",
    "import os\n",
    "import matplotlib.pyplot as plt\n",
    "import seaborn as sns\n",
    "from scipy.stats import probplot\n",
    "\n",
    "from sklearn . linear_model import LinearRegression\n",
    "from sklearn.neighbors import KNeighborsClassifier\n",
    "from sklearn.linear_model import LogisticRegression\n",
    "from sklearn.naive_bayes import GaussianNB\n",
    "from sklearn import tree\n",
    "from sklearn.discriminant_analysis import LinearDiscriminantAnalysis as LDA\n",
    "from sklearn.discriminant_analysis import QuadraticDiscriminantAnalysis as QDA\n",
    "from sklearn.ensemble import RandomForestClassifier\n",
    "\n",
    "\n",
    "from sklearn import svm\n",
    "\n",
    "from sklearn.preprocessing import StandardScaler\n",
    "from sklearn.model_selection import train_test_split\n",
    "from sklearn.metrics import accuracy_score, confusion_matrix\n"
   ]
  },
  {
   "cell_type": "code",
   "execution_count": 2,
   "id": "d34c2140",
   "metadata": {},
   "outputs": [],
   "source": [
    "df=pd.read_csv('MatchTimelinesFirst15.csv')\n",
    "df_origin_blue=df.drop(columns=['blueDragonKills','redDragonKills','matchId','blue_win','redGold','redMinionsKilled','redJungleMinionsKilled','redAvgLevel','redChampKills','redHeraldKills','redTowersDestroyed'])\n",
    "df_origin_red=df.drop(columns=['blueDragonKills','redDragonKills','matchId','blue_win','blueGold','blueMinionsKilled','blueJungleMinionsKilled','blueAvgLevel','blueChampKills','blueHeraldKills','blueTowersDestroyed'])"
   ]
  },
  {
   "cell_type": "code",
   "execution_count": 3,
   "id": "4e4808d7",
   "metadata": {},
   "outputs": [
    {
     "data": {
      "text/plain": [
       "0.4945838728905881"
      ]
     },
     "execution_count": 3,
     "metadata": {},
     "output_type": "execute_result"
    }
   ],
   "source": [
    "24062/48651"
   ]
  },
  {
   "cell_type": "code",
   "execution_count": 4,
   "id": "a78be9c1",
   "metadata": {
    "scrolled": true
   },
   "outputs": [
    {
     "data": {
      "text/html": [
       "<div>\n",
       "<style scoped>\n",
       "    .dataframe tbody tr th:only-of-type {\n",
       "        vertical-align: middle;\n",
       "    }\n",
       "\n",
       "    .dataframe tbody tr th {\n",
       "        vertical-align: top;\n",
       "    }\n",
       "\n",
       "    .dataframe thead th {\n",
       "        text-align: right;\n",
       "    }\n",
       "</style>\n",
       "<table border=\"1\" class=\"dataframe\">\n",
       "  <thead>\n",
       "    <tr style=\"text-align: right;\">\n",
       "      <th></th>\n",
       "      <th>matchId</th>\n",
       "      <th>blue_win</th>\n",
       "      <th>blueGold</th>\n",
       "      <th>blueMinionsKilled</th>\n",
       "      <th>blueJungleMinionsKilled</th>\n",
       "      <th>blueAvgLevel</th>\n",
       "      <th>redGold</th>\n",
       "      <th>redMinionsKilled</th>\n",
       "      <th>redJungleMinionsKilled</th>\n",
       "      <th>redAvgLevel</th>\n",
       "      <th>blueChampKills</th>\n",
       "      <th>blueHeraldKills</th>\n",
       "      <th>blueDragonKills</th>\n",
       "      <th>blueTowersDestroyed</th>\n",
       "      <th>redChampKills</th>\n",
       "      <th>redHeraldKills</th>\n",
       "      <th>redDragonKills</th>\n",
       "      <th>redTowersDestroyed</th>\n",
       "    </tr>\n",
       "  </thead>\n",
       "  <tbody>\n",
       "    <tr>\n",
       "      <th>0</th>\n",
       "      <td>3493250918</td>\n",
       "      <td>0</td>\n",
       "      <td>24575</td>\n",
       "      <td>349</td>\n",
       "      <td>89</td>\n",
       "      <td>8.6</td>\n",
       "      <td>25856</td>\n",
       "      <td>346</td>\n",
       "      <td>80</td>\n",
       "      <td>9.2</td>\n",
       "      <td>6</td>\n",
       "      <td>1</td>\n",
       "      <td>0</td>\n",
       "      <td>1</td>\n",
       "      <td>12</td>\n",
       "      <td>2</td>\n",
       "      <td>0</td>\n",
       "      <td>1</td>\n",
       "    </tr>\n",
       "    <tr>\n",
       "      <th>1</th>\n",
       "      <td>3464936341</td>\n",
       "      <td>0</td>\n",
       "      <td>27210</td>\n",
       "      <td>290</td>\n",
       "      <td>36</td>\n",
       "      <td>9.0</td>\n",
       "      <td>28765</td>\n",
       "      <td>294</td>\n",
       "      <td>92</td>\n",
       "      <td>9.4</td>\n",
       "      <td>20</td>\n",
       "      <td>0</td>\n",
       "      <td>0</td>\n",
       "      <td>0</td>\n",
       "      <td>19</td>\n",
       "      <td>2</td>\n",
       "      <td>0</td>\n",
       "      <td>0</td>\n",
       "    </tr>\n",
       "    <tr>\n",
       "      <th>2</th>\n",
       "      <td>3428425921</td>\n",
       "      <td>1</td>\n",
       "      <td>32048</td>\n",
       "      <td>346</td>\n",
       "      <td>92</td>\n",
       "      <td>9.4</td>\n",
       "      <td>25305</td>\n",
       "      <td>293</td>\n",
       "      <td>84</td>\n",
       "      <td>9.4</td>\n",
       "      <td>17</td>\n",
       "      <td>3</td>\n",
       "      <td>0</td>\n",
       "      <td>0</td>\n",
       "      <td>11</td>\n",
       "      <td>0</td>\n",
       "      <td>0</td>\n",
       "      <td>4</td>\n",
       "    </tr>\n",
       "    <tr>\n",
       "      <th>3</th>\n",
       "      <td>3428347390</td>\n",
       "      <td>0</td>\n",
       "      <td>20261</td>\n",
       "      <td>223</td>\n",
       "      <td>60</td>\n",
       "      <td>8.2</td>\n",
       "      <td>30429</td>\n",
       "      <td>356</td>\n",
       "      <td>107</td>\n",
       "      <td>9.4</td>\n",
       "      <td>7</td>\n",
       "      <td>0</td>\n",
       "      <td>0</td>\n",
       "      <td>3</td>\n",
       "      <td>16</td>\n",
       "      <td>3</td>\n",
       "      <td>0</td>\n",
       "      <td>0</td>\n",
       "    </tr>\n",
       "    <tr>\n",
       "      <th>4</th>\n",
       "      <td>3428350940</td>\n",
       "      <td>1</td>\n",
       "      <td>30217</td>\n",
       "      <td>376</td>\n",
       "      <td>110</td>\n",
       "      <td>9.8</td>\n",
       "      <td>23889</td>\n",
       "      <td>334</td>\n",
       "      <td>60</td>\n",
       "      <td>8.8</td>\n",
       "      <td>16</td>\n",
       "      <td>3</td>\n",
       "      <td>0</td>\n",
       "      <td>0</td>\n",
       "      <td>8</td>\n",
       "      <td>0</td>\n",
       "      <td>0</td>\n",
       "      <td>2</td>\n",
       "    </tr>\n",
       "  </tbody>\n",
       "</table>\n",
       "</div>"
      ],
      "text/plain": [
       "      matchId  blue_win  blueGold  blueMinionsKilled  blueJungleMinionsKilled  \\\n",
       "0  3493250918         0     24575                349                       89   \n",
       "1  3464936341         0     27210                290                       36   \n",
       "2  3428425921         1     32048                346                       92   \n",
       "3  3428347390         0     20261                223                       60   \n",
       "4  3428350940         1     30217                376                      110   \n",
       "\n",
       "   blueAvgLevel  redGold  redMinionsKilled  redJungleMinionsKilled  \\\n",
       "0           8.6    25856               346                      80   \n",
       "1           9.0    28765               294                      92   \n",
       "2           9.4    25305               293                      84   \n",
       "3           8.2    30429               356                     107   \n",
       "4           9.8    23889               334                      60   \n",
       "\n",
       "   redAvgLevel  blueChampKills  blueHeraldKills  blueDragonKills  \\\n",
       "0          9.2               6                1                0   \n",
       "1          9.4              20                0                0   \n",
       "2          9.4              17                3                0   \n",
       "3          9.4               7                0                0   \n",
       "4          8.8              16                3                0   \n",
       "\n",
       "   blueTowersDestroyed  redChampKills  redHeraldKills  redDragonKills  \\\n",
       "0                    1             12               2               0   \n",
       "1                    0             19               2               0   \n",
       "2                    0             11               0               0   \n",
       "3                    3             16               3               0   \n",
       "4                    0              8               0               0   \n",
       "\n",
       "   redTowersDestroyed  \n",
       "0                   1  \n",
       "1                   0  \n",
       "2                   4  \n",
       "3                   0  \n",
       "4                   2  "
      ]
     },
     "execution_count": 4,
     "metadata": {},
     "output_type": "execute_result"
    }
   ],
   "source": [
    "df.head()"
   ]
  },
  {
   "cell_type": "code",
   "execution_count": 5,
   "id": "d3507785",
   "metadata": {
    "scrolled": false
   },
   "outputs": [
    {
     "data": {
      "image/png": "[encoded data removed]",
      "text/plain": [
       "<Figure size 800x600 with 2 Axes>"
      ]
     },
     "metadata": {},
     "output_type": "display_data"
    }
   ],
   "source": [
    "df_origin_red\n",
    "correlation_matrix = df_origin_red.corr()\n",
    "\n",
    "# Set up the matplotlib figure\n",
    "plt.figure(figsize=(8, 6))\n",
    "sns.heatmap(correlation_matrix, annot=True, cmap='coolwarm', fmt=\".2f\", linewidths=.5, square=True)\n",
    "plt.yticks(rotation=0)\n",
    "# Show the plot\n",
    "plt.show()"
   ]
  },
  {
   "cell_type": "code",
   "execution_count": 6,
   "id": "b29cbdb4",
   "metadata": {},
   "outputs": [
    {
     "data": {
      "image/png": "[encoded data removed]",
      "text/plain": [
       "<Figure size 800x600 with 2 Axes>"
      ]
     },
     "metadata": {},
     "output_type": "display_data"
    }
   ],
   "source": [
    "df_origin_blue\n",
    "correlation_matrix = df_origin_blue.corr()\n",
    "\n",
    "# Set up the matplotlib figure\n",
    "plt.figure(figsize=(8, 6))\n",
    "sns.heatmap(correlation_matrix, annot=True, cmap='coolwarm', fmt=\".2f\", linewidths=.5, square=True)\n",
    "plt.yticks(rotation=0)\n",
    "# Show the plot\n",
    "plt.show()"
   ]
  },
  {
   "cell_type": "code",
   "execution_count": 7,
   "id": "bd024adc",
   "metadata": {},
   "outputs": [
    {
     "data": {
      "text/plain": [
       "count    48651.000000\n",
       "mean         0.505416\n",
       "std          0.499976\n",
       "min          0.000000\n",
       "25%          0.000000\n",
       "50%          1.000000\n",
       "75%          1.000000\n",
       "max          1.000000\n",
       "Name: blue_win, dtype: float64"
      ]
     },
     "execution_count": 7,
     "metadata": {},
     "output_type": "execute_result"
    }
   ],
   "source": [
    "#Total No. of Games =48651 \n",
    "#Blue Team wins: 24589 (round 50%)\n",
    "df['blue_win'].describe()"
   ]
  },
  {
   "cell_type": "code",
   "execution_count": 8,
   "id": "586a0792",
   "metadata": {},
   "outputs": [],
   "source": [
    "df_blue=df[df['blue_win']==1]\n",
    "df_red=df[df['blue_win']==0]"
   ]
  },
  {
   "cell_type": "markdown",
   "id": "08d22ec9",
   "metadata": {},
   "source": [
    "## KNN=4 (51.90%) "
   ]
  },
  {
   "cell_type": "code",
   "execution_count": 9,
   "id": "ed0741c8",
   "metadata": {
    "scrolled": true
   },
   "outputs": [
    {
     "name": "stdout",
     "output_type": "stream",
     "text": [
      "0.5190331332730412\n",
      "[[  260 11696]\n",
      " [    4 12366]]\n"
     ]
    }
   ],
   "source": [
    "X = df[[ 'blueChampKills', 'blueHeraldKills','blueTowersDestroyed']].values\n",
    "Y = df['blue_win'].values\n",
    "X_train, X_test, Y_train, Y_test = train_test_split(X, Y, test_size=0.5, random_state=42)\n",
    "\n",
    "scaler = StandardScaler (). fit (X_train)\n",
    "X_train = scaler . transform (X_train)\n",
    "knn_classifier = KNeighborsClassifier ( n_neighbors =4)\n",
    "knn_classifier . fit (X_train,Y_train)\n",
    "\n",
    "prediction = knn_classifier.predict ( X_test)\n",
    "acc=accuracy_score(Y_test,prediction)\n",
    "cf=confusion_matrix(Y_test,prediction)\n",
    "\n",
    "print(acc)\n",
    "print(cf)"
   ]
  },
  {
   "cell_type": "code",
   "execution_count": 10,
   "id": "46381132",
   "metadata": {},
   "outputs": [
    {
     "name": "stdout",
     "output_type": "stream",
     "text": [
      "KNN TPR:99.97%\n",
      "KNN TNR:2.17%\n"
     ]
    }
   ],
   "source": [
    "KNN_TPR=round(12366*100/(12366+4),2)\n",
    "KNN_TNR=round(260*100/(260+11696),2)\n",
    "print(f'KNN TPR:{KNN_TPR}%')\n",
    "print(f'KNN TNR:{KNN_TNR}%')"
   ]
  },
  {
   "cell_type": "code",
   "execution_count": 11,
   "id": "0a4e717c",
   "metadata": {},
   "outputs": [],
   "source": [
    "df.insert(4,'KNN',0)"
   ]
  },
  {
   "cell_type": "code",
   "execution_count": 12,
   "id": "2f97c65a",
   "metadata": {},
   "outputs": [],
   "source": [
    "prediction = knn_classifier.predict (X)\n",
    "df['KNN']=prediction"
   ]
  },
  {
   "cell_type": "markdown",
   "id": "16e58a73",
   "metadata": {},
   "source": [
    "## Logistic Regression(50.85%)"
   ]
  },
  {
   "cell_type": "code",
   "execution_count": 13,
   "id": "8e40a504",
   "metadata": {
    "scrolled": true
   },
   "outputs": [
    {
     "name": "stdout",
     "output_type": "stream",
     "text": [
      "0.5085094137959385\n",
      "[[    0 11956]\n",
      " [    0 12370]]\n"
     ]
    }
   ],
   "source": [
    "X = df[['blueGold', 'blueMinionsKilled', 'blueJungleMinionsKilled', 'blueAvgLevel', 'blueChampKills','blueHeraldKills', 'blueTowersDestroyed']].values\n",
    "Y = df['blue_win'].values\n",
    "\n",
    "X_train, X_test, Y_train, Y_test = train_test_split(X, Y, test_size=0.5, random_state=42)\n",
    "\n",
    "scaler = StandardScaler ()\n",
    "scaler .fit(X_train)\n",
    "X_train = scaler .transform (X_train)\n",
    "\n",
    "log_reg_classifier = LogisticRegression ()\n",
    "log_reg_classifier . fit (X_train,Y_train)\n",
    "\n",
    "predicted = log_reg_classifier.predict(X_test)\n",
    "acc=accuracy_score(Y_test,predicted)\n",
    "cf=confusion_matrix(Y_test,predicted)\n",
    "\n",
    "print(acc)\n",
    "print(cf)"
   ]
  },
  {
   "cell_type": "code",
   "execution_count": 14,
   "id": "d0b5f6ff",
   "metadata": {},
   "outputs": [
    {
     "name": "stdout",
     "output_type": "stream",
     "text": [
      "Logistics TPR:0%\n",
      "Logistics TNR:100%\n"
     ]
    }
   ],
   "source": [
    "LOG_TPR=0\n",
    "LOG_TNR=100\n",
    "print(f'Logistics TPR:{LOG_TPR}%')\n",
    "print(f'Logistics TNR:{LOG_TNR}%')"
   ]
  },
  {
   "cell_type": "markdown",
   "id": "5b3938fa",
   "metadata": {},
   "source": [
    "## Linear Discriminant Analysis(75.94%)"
   ]
  },
  {
   "cell_type": "code",
   "execution_count": 15,
   "id": "fab5bd67",
   "metadata": {
    "scrolled": true
   },
   "outputs": [
    {
     "name": "stdout",
     "output_type": "stream",
     "text": [
      "0.7593521335196909\n",
      "[[9027 2929]\n",
      " [2925 9445]]\n"
     ]
    }
   ],
   "source": [
    "X = df[[ 'blueGold', 'blueMinionsKilled', 'blueJungleMinionsKilled', 'blueAvgLevel','blueChampKills', 'blueHeraldKills', 'blueDragonKills', 'blueTowersDestroyed']].values\n",
    "Y = df['blue_win'].values\n",
    "\n",
    "X_train, X_test, Y_train, Y_test = train_test_split(X, Y, test_size=0.5, random_state=42)\n",
    "\n",
    "# Standardize the data\n",
    "scaler = StandardScaler()\n",
    "scaler.fit(X_train)\n",
    "X_train= scaler.transform(X_train)\n",
    "X_test= scaler.transform(X_test)\n",
    "X_test=np.asarray(X_test)\n",
    "\n",
    "lda_classifier = LDA( )\n",
    "lda_classifier.fit(X_train, Y_train)\n",
    "prediction = lda_classifier.predict(X_test)\n",
    "\n",
    "\n",
    "accuracy = lda_classifier.score (X_test, Y_test)\n",
    "cf=confusion_matrix(Y_test,prediction)\n",
    "\n",
    "print(accuracy)\n",
    "print(cf)\n"
   ]
  },
  {
   "cell_type": "code",
   "execution_count": 16,
   "id": "2c08ec35",
   "metadata": {},
   "outputs": [
    {
     "name": "stdout",
     "output_type": "stream",
     "text": [
      "LinearDiscriminant Analysis TPR:76.35%\n",
      "LinearDiscriminant Analysis TNR:75.5%\n"
     ]
    }
   ],
   "source": [
    "#TPR and TNR\n",
    "LDA_TPR= round(9445*100/(2925+9445),2)\n",
    "LDA_TNR=round(9027*100/(9027+2929),2)\n",
    "print(f'LinearDiscriminant Analysis TPR:{LDA_TPR}%')\n",
    "print(f'LinearDiscriminant Analysis TNR:{LDA_TNR}%')"
   ]
  },
  {
   "cell_type": "markdown",
   "id": "8cee64ed",
   "metadata": {},
   "source": [
    "## Quadratic Discriminant Analysis(49.15%)"
   ]
  },
  {
   "cell_type": "code",
   "execution_count": 17,
   "id": "c856d7b3",
   "metadata": {
    "scrolled": true
   },
   "outputs": [
    {
     "name": "stdout",
     "output_type": "stream",
     "text": [
      "0.4914905862040615\n",
      "[[11956 12370]\n",
      " [    0     0]]\n"
     ]
    },
    {
     "name": "stderr",
     "output_type": "stream",
     "text": [
      "D:\\anaconda\\Lib\\site-packages\\sklearn\\discriminant_analysis.py:935: UserWarning: Variables are collinear\n",
      "  warnings.warn(\"Variables are collinear\")\n",
      "D:\\anaconda\\Lib\\site-packages\\sklearn\\discriminant_analysis.py:960: RuntimeWarning: divide by zero encountered in power\n",
      "  X2 = np.dot(Xm, R * (S ** (-0.5)))\n",
      "D:\\anaconda\\Lib\\site-packages\\sklearn\\discriminant_analysis.py:960: RuntimeWarning: invalid value encountered in multiply\n",
      "  X2 = np.dot(Xm, R * (S ** (-0.5)))\n",
      "D:\\anaconda\\Lib\\site-packages\\sklearn\\discriminant_analysis.py:963: RuntimeWarning: divide by zero encountered in log\n",
      "  u = np.asarray([np.sum(np.log(s)) for s in self.scalings_])\n",
      "D:\\anaconda\\Lib\\site-packages\\sklearn\\discriminant_analysis.py:960: RuntimeWarning: divide by zero encountered in power\n",
      "  X2 = np.dot(Xm, R * (S ** (-0.5)))\n",
      "D:\\anaconda\\Lib\\site-packages\\sklearn\\discriminant_analysis.py:960: RuntimeWarning: invalid value encountered in multiply\n",
      "  X2 = np.dot(Xm, R * (S ** (-0.5)))\n",
      "D:\\anaconda\\Lib\\site-packages\\sklearn\\discriminant_analysis.py:963: RuntimeWarning: divide by zero encountered in log\n",
      "  u = np.asarray([np.sum(np.log(s)) for s in self.scalings_])\n"
     ]
    }
   ],
   "source": [
    "X = df[['blueGold', 'blueMinionsKilled', 'blueJungleMinionsKilled', 'blueAvgLevel', 'blueChampKills', 'blueHeraldKills', 'blueDragonKills', 'blueTowersDestroyed']].values\n",
    "Y = df['blue_win'].values\n",
    "\n",
    "\n",
    "X_train, X_test, Y_train, Y_test = train_test_split(X, Y, test_size=0.5, random_state=42)\n",
    "\n",
    "scaler = StandardScaler()\n",
    "scaler.fit(X_train)\n",
    "\n",
    "X_scaled_train = scaler.transform(X_train)\n",
    "X_scaled_test = scaler.transform(X_test)\n",
    "\n",
    "qda_classifier = QDA()\n",
    "qda_classifier.fit(X_scaled_train, Y_train)\n",
    "\n",
    "predicted = qda_classifier.predict(X_scaled_test)\n",
    "\n",
    "\n",
    "accuracy = qda_classifier.score(X_test, Y_test)\n",
    "cf=confusion_matrix(predicted,Y_test)\n",
    "\n",
    "print(accuracy)\n",
    "print(cf)"
   ]
  },
  {
   "cell_type": "code",
   "execution_count": 18,
   "id": "2ed9dfdd",
   "metadata": {},
   "outputs": [
    {
     "name": "stdout",
     "output_type": "stream",
     "text": [
      "Quadratic Discriminant Analysis TPR:0%\n",
      "Quadratic Discriminant Analysis TNR:49.15%\n"
     ]
    }
   ],
   "source": [
    "#TPR and TNR\n",
    "QDA_TPR= 0\n",
    "QDA_TNR=round(11956*100/(11956+12370),2)\n",
    "print(f'Quadratic Discriminant Analysis TPR:{QDA_TPR}%')\n",
    "print(f'Quadratic Discriminant Analysis TNR:{QDA_TNR}%')"
   ]
  },
  {
   "cell_type": "markdown",
   "id": "abba1983",
   "metadata": {},
   "source": [
    "## Naive Bayes(75.90%)"
   ]
  },
  {
   "cell_type": "code",
   "execution_count": 19,
   "id": "97814ccd",
   "metadata": {},
   "outputs": [
    {
     "name": "stdout",
     "output_type": "stream",
     "text": [
      "0.7590232672860314\n",
      "[[8824 3132]\n",
      " [2730 9640]]\n"
     ]
    }
   ],
   "source": [
    "#BlueJungleMinionsKilled has little importance in improving accuracy\n",
    "\n",
    "X = df[['blueGold', 'blueMinionsKilled', 'blueAvgLevel', 'blueChampKills', 'blueHeraldKills', 'blueDragonKills','blueTowersDestroyed']].values\n",
    "Y = df['blue_win'].values\n",
    "\n",
    "X_train, X_test, Y_train, Y_test = train_test_split(X, Y, test_size=0.5, random_state=42)\n",
    "NB_classifier = GaussianNB (). fit (X_train, Y_train)\n",
    "prediction = NB_classifier .predict (X_test)\n",
    "\n",
    "accuracy=accuracy_score(Y_test,prediction)\n",
    "cf=confusion_matrix(Y_test,prediction)\n",
    "print(accuracy)\n",
    "print(cf)"
   ]
  },
  {
   "cell_type": "code",
   "execution_count": 20,
   "id": "254ffb1c",
   "metadata": {},
   "outputs": [
    {
     "name": "stdout",
     "output_type": "stream",
     "text": [
      "Naive Bayes TPR:77.93%\n",
      "Naive Bayes TNR:73.8%\n"
     ]
    }
   ],
   "source": [
    "#TPR and TNR\n",
    "NB_TPR= round(9640*100/(2730+9640),2)\n",
    "NB_TNR=round(8823*100/(8824+3132),2)\n",
    "print(f'Naive Bayes TPR:{NB_TPR}%')\n",
    "print(f'Naive Bayes TNR:{NB_TNR}%')"
   ]
  },
  {
   "cell_type": "markdown",
   "id": "bf040e01",
   "metadata": {},
   "source": [
    "## Decision Tree(67.49%)"
   ]
  },
  {
   "cell_type": "code",
   "execution_count": 21,
   "id": "8afccfb5",
   "metadata": {
    "scrolled": true
   },
   "outputs": [
    {
     "name": "stdout",
     "output_type": "stream",
     "text": [
      "0.674463536956343\n",
      "[[8047 3909]\n",
      " [4010 8360]]\n"
     ]
    }
   ],
   "source": [
    "#BlueJungleMinionsKilled, BlueAvgLevel has little importance in improving accuracy\n",
    "\n",
    "X = df[['blueGold', 'blueMinionsKilled', 'blueChampKills', 'blueHeraldKills', 'blueDragonKills', 'blueTowersDestroyed']].values\n",
    "Y = df['blue_win'].values\n",
    "\n",
    "X_train, X_test, Y_train, Y_test = train_test_split(X, Y, test_size=0.5, random_state=42)\n",
    "\n",
    "clf = tree . DecisionTreeClassifier( criterion = 'entropy')\n",
    "clf = clf .fit(X_train,Y_train)\n",
    "prediction = clf .predict (X_test)\n",
    "\n",
    "print(accuracy_score(Y_test,prediction))\n",
    "print(confusion_matrix(Y_test,prediction))"
   ]
  },
  {
   "cell_type": "code",
   "execution_count": 22,
   "id": "0d2c64f4",
   "metadata": {},
   "outputs": [
    {
     "name": "stdout",
     "output_type": "stream",
     "text": [
      "Decision Tree TPR:67.61%\n",
      "Decision Tree TNR:67.5%\n"
     ]
    }
   ],
   "source": [
    "#TPR and TNR\n",
    "DC_TPR= round(8363*100/(8363+4007),2)\n",
    "DC_TNR=round(8070*100/(8070+3886),2)\n",
    "print(f'Decision Tree TPR:{DC_TPR}%')\n",
    "print(f'Decision Tree TNR:{DC_TNR}%')"
   ]
  },
  {
   "cell_type": "markdown",
   "id": "23cc3e1f",
   "metadata": {},
   "source": [
    "## Choosing Linear Discriminant Analysis"
   ]
  },
  {
   "cell_type": "code",
   "execution_count": 23,
   "id": "eae94168",
   "metadata": {},
   "outputs": [
    {
     "name": "stdout",
     "output_type": "stream",
     "text": [
      "0.7593521335196909\n",
      "[[9027 2929]\n",
      " [2925 9445]]\n"
     ]
    }
   ],
   "source": [
    "X = df[[ 'blueGold', 'blueMinionsKilled', 'blueJungleMinionsKilled', 'blueAvgLevel','blueChampKills', 'blueHeraldKills', 'blueDragonKills', 'blueTowersDestroyed']].values\n",
    "Y = df['blue_win'].values\n",
    "\n",
    "X_train, X_test, Y_train, Y_test = train_test_split(X, Y, test_size=0.5, random_state=42)\n",
    "\n",
    "# Standardize the data\n",
    "scaler = StandardScaler()\n",
    "scaler.fit(X_train)\n",
    "X_train= scaler.transform(X_train)\n",
    "X_test= scaler.transform(X_test)\n",
    "X_test=np.asarray(X_test)\n",
    "\n",
    "lda_classifier = LDA( )\n",
    "lda_classifier.fit(X_train, Y_train)\n",
    "prediction = lda_classifier.predict(X_test)\n",
    "\n",
    "\n",
    "accuracy = lda_classifier.score (X_test, Y_test)\n",
    "cf=confusion_matrix(Y_test,prediction)\n",
    "\n",
    "print(accuracy)\n",
    "print(cf)"
   ]
  },
  {
   "cell_type": "code",
   "execution_count": 24,
   "id": "1d005370",
   "metadata": {},
   "outputs": [
    {
     "name": "stdout",
     "output_type": "stream",
     "text": [
      "0.759079977801073\n"
     ]
    }
   ],
   "source": [
    "#Scale the new instance\n",
    "new_instance= scaler.transform(X)\n",
    "predicted= lda_classifier.predict(new_instance)\n",
    "acc=accuracy_score(Y,predicted)\n",
    "print(acc)"
   ]
  },
  {
   "cell_type": "code",
   "execution_count": 25,
   "id": "5b4f3f63",
   "metadata": {},
   "outputs": [],
   "source": [
    "df.insert(2, 'LDA_Predict', predicted)"
   ]
  },
  {
   "cell_type": "markdown",
   "id": "091415ef",
   "metadata": {},
   "source": [
    "## Choosing Naive Bayes"
   ]
  },
  {
   "cell_type": "code",
   "execution_count": 26,
   "id": "18d3a399",
   "metadata": {
    "scrolled": false
   },
   "outputs": [
    {
     "name": "stdout",
     "output_type": "stream",
     "text": [
      "0.7590232672860314\n",
      "[[8824 3132]\n",
      " [2730 9640]]\n"
     ]
    }
   ],
   "source": [
    "X = df[['blueGold', 'blueMinionsKilled', 'blueAvgLevel', 'blueChampKills', 'blueHeraldKills', 'blueDragonKills','blueTowersDestroyed']].values\n",
    "Y = df['blue_win'].values\n",
    "\n",
    "X_train, X_test, Y_train, Y_test = train_test_split(X, Y, test_size=0.5, random_state=42)\n",
    "NB_classifier = GaussianNB (). fit (X_train, Y_train)\n",
    "prediction = NB_classifier .predict (X_test)\n",
    "\n",
    "accuracy=accuracy_score(Y_test,prediction)\n",
    "cf=confusion_matrix(Y_test,prediction)\n",
    "print(accuracy)\n",
    "print(cf)"
   ]
  },
  {
   "cell_type": "code",
   "execution_count": 27,
   "id": "24ea2363",
   "metadata": {},
   "outputs": [
    {
     "name": "stdout",
     "output_type": "stream",
     "text": [
      "0.7793047696038804 0.7379558380729341\n"
     ]
    }
   ],
   "source": [
    "# TPR and TNR\n",
    "NB_TPR= 9640/(2730+9640)\n",
    "NB_TNR=8823/(8824+3132)\n",
    "print(NB_TPR,NB_TNR)"
   ]
  },
  {
   "cell_type": "code",
   "execution_count": 28,
   "id": "da42db38",
   "metadata": {},
   "outputs": [
    {
     "name": "stdout",
     "output_type": "stream",
     "text": [
      "0.7582989044418409\n"
     ]
    }
   ],
   "source": [
    "predicted= NB_classifier .predict(X)\n",
    "acc=accuracy_score(Y,predicted)\n",
    "print(acc)"
   ]
  },
  {
   "cell_type": "code",
   "execution_count": 29,
   "id": "1213b613",
   "metadata": {},
   "outputs": [],
   "source": [
    "df.insert(3, 'NB_Predict', predicted)"
   ]
  },
  {
   "cell_type": "code",
   "execution_count": 30,
   "id": "258d4d55",
   "metadata": {
    "scrolled": true
   },
   "outputs": [
    {
     "data": {
      "text/plain": [
       "count    11721.000000\n",
       "mean         9.187680\n",
       "std          0.298663\n",
       "min          7.600000\n",
       "25%          9.000000\n",
       "50%          9.200000\n",
       "75%          9.400000\n",
       "max         10.400000\n",
       "Name: blueAvgLevel, dtype: float64"
      ]
     },
     "execution_count": 30,
     "metadata": {},
     "output_type": "execute_result"
    }
   ],
   "source": [
    "#Try looking at the table where LDA value is different from True Value\n",
    "df_dif_LDA=df[df['LDA_Predict'] != df['blue_win']]\n",
    "df_dif_LDA['blueAvgLevel'].describe()"
   ]
  },
  {
   "cell_type": "code",
   "execution_count": 31,
   "id": "c771e133",
   "metadata": {},
   "outputs": [],
   "source": [
    "df_dif_LDA=df_dif_LDA.reset_index(drop=True)"
   ]
  },
  {
   "cell_type": "code",
   "execution_count": 32,
   "id": "71870797",
   "metadata": {
    "scrolled": true
   },
   "outputs": [
    {
     "data": {
      "text/html": [
       "<div>\n",
       "<style scoped>\n",
       "    .dataframe tbody tr th:only-of-type {\n",
       "        vertical-align: middle;\n",
       "    }\n",
       "\n",
       "    .dataframe tbody tr th {\n",
       "        vertical-align: top;\n",
       "    }\n",
       "\n",
       "    .dataframe thead th {\n",
       "        text-align: right;\n",
       "    }\n",
       "</style>\n",
       "<table border=\"1\" class=\"dataframe\">\n",
       "  <thead>\n",
       "    <tr style=\"text-align: right;\">\n",
       "      <th></th>\n",
       "      <th>matchId</th>\n",
       "      <th>blue_win</th>\n",
       "      <th>LDA_Predict</th>\n",
       "      <th>NB_Predict</th>\n",
       "      <th>blueGold</th>\n",
       "      <th>blueMinionsKilled</th>\n",
       "      <th>KNN</th>\n",
       "      <th>blueJungleMinionsKilled</th>\n",
       "      <th>blueAvgLevel</th>\n",
       "      <th>redGold</th>\n",
       "      <th>...</th>\n",
       "      <th>redJungleMinionsKilled</th>\n",
       "      <th>redAvgLevel</th>\n",
       "      <th>blueChampKills</th>\n",
       "      <th>blueHeraldKills</th>\n",
       "      <th>blueDragonKills</th>\n",
       "      <th>blueTowersDestroyed</th>\n",
       "      <th>redChampKills</th>\n",
       "      <th>redHeraldKills</th>\n",
       "      <th>redDragonKills</th>\n",
       "      <th>redTowersDestroyed</th>\n",
       "    </tr>\n",
       "  </thead>\n",
       "  <tbody>\n",
       "    <tr>\n",
       "      <th>0</th>\n",
       "      <td>3494458885</td>\n",
       "      <td>1</td>\n",
       "      <td>0</td>\n",
       "      <td>1</td>\n",
       "      <td>25470</td>\n",
       "      <td>362</td>\n",
       "      <td>1</td>\n",
       "      <td>82</td>\n",
       "      <td>9.2</td>\n",
       "      <td>22856</td>\n",
       "      <td>...</td>\n",
       "      <td>86</td>\n",
       "      <td>8.8</td>\n",
       "      <td>9</td>\n",
       "      <td>1</td>\n",
       "      <td>0</td>\n",
       "      <td>0</td>\n",
       "      <td>7</td>\n",
       "      <td>1</td>\n",
       "      <td>0</td>\n",
       "      <td>0</td>\n",
       "    </tr>\n",
       "    <tr>\n",
       "      <th>1</th>\n",
       "      <td>3463280042</td>\n",
       "      <td>0</td>\n",
       "      <td>1</td>\n",
       "      <td>1</td>\n",
       "      <td>28946</td>\n",
       "      <td>367</td>\n",
       "      <td>1</td>\n",
       "      <td>65</td>\n",
       "      <td>9.2</td>\n",
       "      <td>26528</td>\n",
       "      <td>...</td>\n",
       "      <td>63</td>\n",
       "      <td>8.8</td>\n",
       "      <td>15</td>\n",
       "      <td>2</td>\n",
       "      <td>0</td>\n",
       "      <td>1</td>\n",
       "      <td>14</td>\n",
       "      <td>1</td>\n",
       "      <td>0</td>\n",
       "      <td>1</td>\n",
       "    </tr>\n",
       "    <tr>\n",
       "      <th>2</th>\n",
       "      <td>3462733928</td>\n",
       "      <td>1</td>\n",
       "      <td>0</td>\n",
       "      <td>0</td>\n",
       "      <td>26079</td>\n",
       "      <td>302</td>\n",
       "      <td>1</td>\n",
       "      <td>106</td>\n",
       "      <td>9.0</td>\n",
       "      <td>27275</td>\n",
       "      <td>...</td>\n",
       "      <td>91</td>\n",
       "      <td>9.4</td>\n",
       "      <td>9</td>\n",
       "      <td>1</td>\n",
       "      <td>0</td>\n",
       "      <td>1</td>\n",
       "      <td>10</td>\n",
       "      <td>2</td>\n",
       "      <td>0</td>\n",
       "      <td>1</td>\n",
       "    </tr>\n",
       "    <tr>\n",
       "      <th>3</th>\n",
       "      <td>3486983506</td>\n",
       "      <td>0</td>\n",
       "      <td>1</td>\n",
       "      <td>1</td>\n",
       "      <td>26523</td>\n",
       "      <td>338</td>\n",
       "      <td>1</td>\n",
       "      <td>99</td>\n",
       "      <td>9.2</td>\n",
       "      <td>27328</td>\n",
       "      <td>...</td>\n",
       "      <td>104</td>\n",
       "      <td>9.4</td>\n",
       "      <td>9</td>\n",
       "      <td>1</td>\n",
       "      <td>0</td>\n",
       "      <td>0</td>\n",
       "      <td>11</td>\n",
       "      <td>2</td>\n",
       "      <td>0</td>\n",
       "      <td>1</td>\n",
       "    </tr>\n",
       "    <tr>\n",
       "      <th>4</th>\n",
       "      <td>3501065091</td>\n",
       "      <td>1</td>\n",
       "      <td>0</td>\n",
       "      <td>0</td>\n",
       "      <td>26300</td>\n",
       "      <td>399</td>\n",
       "      <td>1</td>\n",
       "      <td>67</td>\n",
       "      <td>9.0</td>\n",
       "      <td>22318</td>\n",
       "      <td>...</td>\n",
       "      <td>69</td>\n",
       "      <td>8.8</td>\n",
       "      <td>9</td>\n",
       "      <td>0</td>\n",
       "      <td>0</td>\n",
       "      <td>0</td>\n",
       "      <td>5</td>\n",
       "      <td>3</td>\n",
       "      <td>0</td>\n",
       "      <td>0</td>\n",
       "    </tr>\n",
       "    <tr>\n",
       "      <th>...</th>\n",
       "      <td>...</td>\n",
       "      <td>...</td>\n",
       "      <td>...</td>\n",
       "      <td>...</td>\n",
       "      <td>...</td>\n",
       "      <td>...</td>\n",
       "      <td>...</td>\n",
       "      <td>...</td>\n",
       "      <td>...</td>\n",
       "      <td>...</td>\n",
       "      <td>...</td>\n",
       "      <td>...</td>\n",
       "      <td>...</td>\n",
       "      <td>...</td>\n",
       "      <td>...</td>\n",
       "      <td>...</td>\n",
       "      <td>...</td>\n",
       "      <td>...</td>\n",
       "      <td>...</td>\n",
       "      <td>...</td>\n",
       "      <td>...</td>\n",
       "    </tr>\n",
       "    <tr>\n",
       "      <th>11716</th>\n",
       "      <td>3494811387</td>\n",
       "      <td>0</td>\n",
       "      <td>1</td>\n",
       "      <td>1</td>\n",
       "      <td>26927</td>\n",
       "      <td>349</td>\n",
       "      <td>1</td>\n",
       "      <td>80</td>\n",
       "      <td>9.2</td>\n",
       "      <td>26774</td>\n",
       "      <td>...</td>\n",
       "      <td>79</td>\n",
       "      <td>9.2</td>\n",
       "      <td>12</td>\n",
       "      <td>3</td>\n",
       "      <td>0</td>\n",
       "      <td>0</td>\n",
       "      <td>11</td>\n",
       "      <td>0</td>\n",
       "      <td>0</td>\n",
       "      <td>1</td>\n",
       "    </tr>\n",
       "    <tr>\n",
       "      <th>11717</th>\n",
       "      <td>3472847472</td>\n",
       "      <td>0</td>\n",
       "      <td>1</td>\n",
       "      <td>1</td>\n",
       "      <td>27555</td>\n",
       "      <td>324</td>\n",
       "      <td>1</td>\n",
       "      <td>117</td>\n",
       "      <td>9.6</td>\n",
       "      <td>25433</td>\n",
       "      <td>...</td>\n",
       "      <td>84</td>\n",
       "      <td>9.2</td>\n",
       "      <td>12</td>\n",
       "      <td>1</td>\n",
       "      <td>0</td>\n",
       "      <td>0</td>\n",
       "      <td>12</td>\n",
       "      <td>2</td>\n",
       "      <td>0</td>\n",
       "      <td>2</td>\n",
       "    </tr>\n",
       "    <tr>\n",
       "      <th>11718</th>\n",
       "      <td>3478150309</td>\n",
       "      <td>0</td>\n",
       "      <td>1</td>\n",
       "      <td>1</td>\n",
       "      <td>27872</td>\n",
       "      <td>386</td>\n",
       "      <td>1</td>\n",
       "      <td>92</td>\n",
       "      <td>9.4</td>\n",
       "      <td>24170</td>\n",
       "      <td>...</td>\n",
       "      <td>81</td>\n",
       "      <td>9.2</td>\n",
       "      <td>11</td>\n",
       "      <td>2</td>\n",
       "      <td>0</td>\n",
       "      <td>0</td>\n",
       "      <td>8</td>\n",
       "      <td>1</td>\n",
       "      <td>0</td>\n",
       "      <td>1</td>\n",
       "    </tr>\n",
       "    <tr>\n",
       "      <th>11719</th>\n",
       "      <td>3475687814</td>\n",
       "      <td>0</td>\n",
       "      <td>1</td>\n",
       "      <td>0</td>\n",
       "      <td>26971</td>\n",
       "      <td>313</td>\n",
       "      <td>1</td>\n",
       "      <td>88</td>\n",
       "      <td>9.4</td>\n",
       "      <td>27625</td>\n",
       "      <td>...</td>\n",
       "      <td>92</td>\n",
       "      <td>9.0</td>\n",
       "      <td>11</td>\n",
       "      <td>2</td>\n",
       "      <td>0</td>\n",
       "      <td>2</td>\n",
       "      <td>11</td>\n",
       "      <td>1</td>\n",
       "      <td>0</td>\n",
       "      <td>1</td>\n",
       "    </tr>\n",
       "    <tr>\n",
       "      <th>11720</th>\n",
       "      <td>3475682007</td>\n",
       "      <td>0</td>\n",
       "      <td>1</td>\n",
       "      <td>0</td>\n",
       "      <td>27013</td>\n",
       "      <td>338</td>\n",
       "      <td>1</td>\n",
       "      <td>61</td>\n",
       "      <td>9.0</td>\n",
       "      <td>31853</td>\n",
       "      <td>...</td>\n",
       "      <td>77</td>\n",
       "      <td>9.6</td>\n",
       "      <td>14</td>\n",
       "      <td>2</td>\n",
       "      <td>0</td>\n",
       "      <td>2</td>\n",
       "      <td>21</td>\n",
       "      <td>0</td>\n",
       "      <td>0</td>\n",
       "      <td>0</td>\n",
       "    </tr>\n",
       "  </tbody>\n",
       "</table>\n",
       "<p>11721 rows × 21 columns</p>\n",
       "</div>"
      ],
      "text/plain": [
       "          matchId  blue_win  LDA_Predict  NB_Predict  blueGold  \\\n",
       "0      3494458885         1            0           1     25470   \n",
       "1      3463280042         0            1           1     28946   \n",
       "2      3462733928         1            0           0     26079   \n",
       "3      3486983506         0            1           1     26523   \n",
       "4      3501065091         1            0           0     26300   \n",
       "...           ...       ...          ...         ...       ...   \n",
       "11716  3494811387         0            1           1     26927   \n",
       "11717  3472847472         0            1           1     27555   \n",
       "11718  3478150309         0            1           1     27872   \n",
       "11719  3475687814         0            1           0     26971   \n",
       "11720  3475682007         0            1           0     27013   \n",
       "\n",
       "       blueMinionsKilled  KNN  blueJungleMinionsKilled  blueAvgLevel  redGold  \\\n",
       "0                    362    1                       82           9.2    22856   \n",
       "1                    367    1                       65           9.2    26528   \n",
       "2                    302    1                      106           9.0    27275   \n",
       "3                    338    1                       99           9.2    27328   \n",
       "4                    399    1                       67           9.0    22318   \n",
       "...                  ...  ...                      ...           ...      ...   \n",
       "11716                349    1                       80           9.2    26774   \n",
       "11717                324    1                      117           9.6    25433   \n",
       "11718                386    1                       92           9.4    24170   \n",
       "11719                313    1                       88           9.4    27625   \n",
       "11720                338    1                       61           9.0    31853   \n",
       "\n",
       "       ...  redJungleMinionsKilled  redAvgLevel  blueChampKills  \\\n",
       "0      ...                      86          8.8               9   \n",
       "1      ...                      63          8.8              15   \n",
       "2      ...                      91          9.4               9   \n",
       "3      ...                     104          9.4               9   \n",
       "4      ...                      69          8.8               9   \n",
       "...    ...                     ...          ...             ...   \n",
       "11716  ...                      79          9.2              12   \n",
       "11717  ...                      84          9.2              12   \n",
       "11718  ...                      81          9.2              11   \n",
       "11719  ...                      92          9.0              11   \n",
       "11720  ...                      77          9.6              14   \n",
       "\n",
       "       blueHeraldKills  blueDragonKills  blueTowersDestroyed  redChampKills  \\\n",
       "0                    1                0                    0              7   \n",
       "1                    2                0                    1             14   \n",
       "2                    1                0                    1             10   \n",
       "3                    1                0                    0             11   \n",
       "4                    0                0                    0              5   \n",
       "...                ...              ...                  ...            ...   \n",
       "11716                3                0                    0             11   \n",
       "11717                1                0                    0             12   \n",
       "11718                2                0                    0              8   \n",
       "11719                2                0                    2             11   \n",
       "11720                2                0                    2             21   \n",
       "\n",
       "       redHeraldKills  redDragonKills  redTowersDestroyed  \n",
       "0                   1               0                   0  \n",
       "1                   1               0                   1  \n",
       "2                   2               0                   1  \n",
       "3                   2               0                   1  \n",
       "4                   3               0                   0  \n",
       "...               ...             ...                 ...  \n",
       "11716               0               0                   1  \n",
       "11717               2               0                   2  \n",
       "11718               1               0                   1  \n",
       "11719               1               0                   1  \n",
       "11720               0               0                   0  \n",
       "\n",
       "[11721 rows x 21 columns]"
      ]
     },
     "execution_count": 32,
     "metadata": {},
     "output_type": "execute_result"
    }
   ],
   "source": [
    "#Table View\n",
    "df_dif_LDA"
   ]
  },
  {
   "cell_type": "markdown",
   "id": "6fc378b4",
   "metadata": {},
   "source": [
    "## Choosing Random Forest"
   ]
  },
  {
   "cell_type": "code",
   "execution_count": 33,
   "id": "74ec5070",
   "metadata": {},
   "outputs": [
    {
     "name": "stdout",
     "output_type": "stream",
     "text": [
      "Accuracy: 0.7330428348269341\n",
      "[[8834 3122]\n",
      " [3372 8998]]\n"
     ]
    }
   ],
   "source": [
    "X_train, X_test, Y_train, Y_test = train_test_split(X, Y, test_size=0.5, random_state=42)\n",
    "clf = RandomForestClassifier(n_estimators=100, random_state=42)\n",
    "\n",
    "# Train the classifier\n",
    "clf.fit(X_train, Y_train)\n",
    "\n",
    "# Make predictions on the test set\n",
    "y_pred = clf.predict(X_test)\n",
    "\n",
    "# Evaluate accuracy\n",
    "accuracy = accuracy_score(Y_test, y_pred)\n",
    "cf=confusion_matrix(Y_test, y_pred)\n",
    "print(\"Accuracy:\", accuracy)\n",
    "print(cf)"
   ]
  },
  {
   "cell_type": "code",
   "execution_count": 34,
   "id": "ffd350d8",
   "metadata": {},
   "outputs": [
    {
     "name": "stdout",
     "output_type": "stream",
     "text": [
      "0.7388758782201406\n",
      "0.7274050121261115\n"
     ]
    }
   ],
   "source": [
    "TNR_RF=8834/(8834+3122)\n",
    "TPR_RF=8998/(8998+3372)\n",
    "print(TNR_RF)\n",
    "print(TPR_RF)"
   ]
  },
  {
   "cell_type": "markdown",
   "id": "e1941720",
   "metadata": {},
   "source": [
    "## Some Analysis in data insights"
   ]
  },
  {
   "cell_type": "code",
   "execution_count": 35,
   "id": "6aa8113d",
   "metadata": {
    "scrolled": true
   },
   "outputs": [
    {
     "data": {
      "text/plain": [
       "blue_win  blueHeraldKills\n",
       "0         0                   8317\n",
       "          1                  10007\n",
       "          2                   4674\n",
       "          3                   1058\n",
       "          4                      6\n",
       "1         0                   2422\n",
       "          1                   8013\n",
       "          2                   9010\n",
       "          3                   5120\n",
       "          4                     24\n",
       "dtype: int64"
      ]
     },
     "execution_count": 35,
     "metadata": {},
     "output_type": "execute_result"
    }
   ],
   "source": [
    "df.groupby(['blue_win','blueHeraldKills']).size()"
   ]
  },
  {
   "cell_type": "code",
   "execution_count": 36,
   "id": "8167a528",
   "metadata": {},
   "outputs": [
    {
     "data": {
      "text/plain": [
       "blue_win  redHeraldKills\n",
       "0         0                 2405\n",
       "          1                 7946\n",
       "          2                 8931\n",
       "          3                 4759\n",
       "          4                   21\n",
       "1         0                 8864\n",
       "          1                 9989\n",
       "          2                 4746\n",
       "          3                  987\n",
       "          4                    3\n",
       "dtype: int64"
      ]
     },
     "execution_count": 36,
     "metadata": {},
     "output_type": "execute_result"
    }
   ],
   "source": [
    "df.groupby(['blue_win','redHeraldKills']).size()"
   ]
  },
  {
   "cell_type": "code",
   "execution_count": 37,
   "id": "fe257b1c",
   "metadata": {},
   "outputs": [
    {
     "data": {
      "image/png": "[encoded data removed]",
      "text/plain": [
       "<Figure size 640x480 with 1 Axes>"
      ]
     },
     "metadata": {},
     "output_type": "display_data"
    }
   ],
   "source": [
    "x = [0, 1, 2, 3, 4]\n",
    "y1=[2422,8013,9010,5120,24]\n",
    "y2=[2405,7946,8931,4759,21]\n",
    "\n",
    "# Set the width of the bars\n",
    "bar_width = 0.35\n",
    "\n",
    "# Create a double-column bar plot\n",
    "plt.bar(np.array(x) - bar_width/2, y1, bar_width, label='Blue Team', color='skyblue')\n",
    "plt.bar(np.array(x) + bar_width/2, y2, bar_width, label='Red Team', color='green')\n",
    "\n",
    "# Set plot labels\n",
    "plt.xlabel('# of Herald Kills')\n",
    "plt.ylabel('# of Win Games')\n",
    "plt.title('Herald Kills in Winning Games')\n",
    "plt.legend()\n",
    "\n",
    "# Show the plot\n",
    "plt.show()\n"
   ]
  },
  {
   "cell_type": "code",
   "execution_count": 38,
   "id": "7512e0c2",
   "metadata": {
    "scrolled": true
   },
   "outputs": [
    {
     "data": {
      "text/plain": [
       "blue_win  blueTowersDestroyed\n",
       "0         0                       7439\n",
       "          1                       9071\n",
       "          2                       4711\n",
       "          3                       1774\n",
       "          4                        585\n",
       "          5                        222\n",
       "          6                        124\n",
       "          7                         83\n",
       "          8                         26\n",
       "          9                         21\n",
       "          10                         3\n",
       "          11                         3\n",
       "1         0                      16668\n",
       "          1                       6491\n",
       "          2                       1226\n",
       "          3                        178\n",
       "          4                         24\n",
       "          5                          2\n",
       "dtype: int64"
      ]
     },
     "execution_count": 38,
     "metadata": {},
     "output_type": "execute_result"
    }
   ],
   "source": [
    "df.groupby(['blue_win','blueTowersDestroyed']).size()"
   ]
  },
  {
   "cell_type": "code",
   "execution_count": 39,
   "id": "0cc4addf",
   "metadata": {
    "scrolled": true
   },
   "outputs": [
    {
     "data": {
      "text/plain": [
       "blue_win  redTowersDestroyed\n",
       "0         0                     15218\n",
       "          1                      7081\n",
       "          2                      1488\n",
       "          3                       237\n",
       "          4                        35\n",
       "          5                         2\n",
       "          6                         1\n",
       "1         0                      6784\n",
       "          1                      9065\n",
       "          2                      5299\n",
       "          3                      2149\n",
       "          4                       708\n",
       "          5                       272\n",
       "          6                       146\n",
       "          7                        86\n",
       "          8                        48\n",
       "          9                        28\n",
       "          10                        4\n",
       "dtype: int64"
      ]
     },
     "execution_count": 39,
     "metadata": {},
     "output_type": "execute_result"
    }
   ],
   "source": [
    "df.groupby(['blue_win','redTowersDestroyed']).size()"
   ]
  },
  {
   "cell_type": "code",
   "execution_count": 40,
   "id": "df6ac55e",
   "metadata": {},
   "outputs": [
    {
     "data": {
      "image/png": "[encoded data removed]",
      "text/plain": [
       "<Figure size 640x480 with 1 Axes>"
      ]
     },
     "metadata": {},
     "output_type": "display_data"
    }
   ],
   "source": [
    "x = [0,1,2,3, 4,5,6]\n",
    "y1=[16668,6491,1226,178,24,2,0]\n",
    "y2=[15218,7081,1488,237,35,2,1]\n",
    "\n",
    "# Set the width of the bars\n",
    "bar_width = 0.35\n",
    "\n",
    "# Create a double-column bar plot\n",
    "plt.bar(np.array(x) - bar_width/2, y1, bar_width, label='Blue Team', color='skyblue')\n",
    "plt.bar(np.array(x) + bar_width/2, y2, bar_width, label='Red Team', color='yellow')\n",
    "\n",
    "# Set plot labels\n",
    "plt.xlabel('# of Towers Destroyed')\n",
    "plt.ylabel('# of Win Games')\n",
    "plt.title('Towers Destroyed in Winning Games')\n",
    "plt.legend()\n",
    "\n",
    "# Show the plot\n",
    "plt.show()"
   ]
  },
  {
   "cell_type": "markdown",
   "id": "93e5c253",
   "metadata": {},
   "source": [
    "## Optimize Blue Team Win(blue_win=1)"
   ]
  },
  {
   "cell_type": "code",
   "execution_count": 41,
   "id": "a7d46dba",
   "metadata": {
    "scrolled": false
   },
   "outputs": [
    {
     "data": {
      "text/plain": [
       "blue_win  blueHeraldKills\n",
       "1         0                  2422\n",
       "          1                  8013\n",
       "          2                  9010\n",
       "          3                  5120\n",
       "          4                    24\n",
       "dtype: int64"
      ]
     },
     "execution_count": 41,
     "metadata": {},
     "output_type": "execute_result"
    }
   ],
   "source": [
    "df[df['blue_win']==1].groupby(['blue_win','blueHeraldKills']).size()"
   ]
  },
  {
   "cell_type": "code",
   "execution_count": 42,
   "id": "5848ed67",
   "metadata": {
    "scrolled": true
   },
   "outputs": [
    {
     "data": {
      "text/plain": [
       "blue_win  blueHeraldKills\n",
       "1         0                  1739\n",
       "          1                  2932\n",
       "          2                  1052\n",
       "          3                    74\n",
       "dtype: int64"
      ]
     },
     "execution_count": 42,
     "metadata": {},
     "output_type": "execute_result"
    }
   ],
   "source": [
    "#if blue_Herald<=2, blue has higher probability of win\n",
    "df_dif_LDA[df_dif_LDA['blue_win']==1].groupby(['blue_win','blueHeraldKills']).size()"
   ]
  },
  {
   "cell_type": "code",
   "execution_count": 43,
   "id": "9bb2bb9e",
   "metadata": {
    "scrolled": true
   },
   "outputs": [
    {
     "data": {
      "text/plain": [
       "blue_win  blueTowersDestroyed\n",
       "1         0                      16668\n",
       "          1                       6491\n",
       "          2                       1226\n",
       "          3                        178\n",
       "          4                         24\n",
       "          5                          2\n",
       "dtype: int64"
      ]
     },
     "execution_count": 43,
     "metadata": {},
     "output_type": "execute_result"
    }
   ],
   "source": [
    "df[df['blue_win']==1].groupby(['blue_win','blueTowersDestroyed']).size()"
   ]
  },
  {
   "cell_type": "code",
   "execution_count": 44,
   "id": "8004bfbc",
   "metadata": {},
   "outputs": [
    {
     "data": {
      "text/plain": [
       "blue_win  blueTowersDestroyed\n",
       "1         0                      2271\n",
       "          1                      2530\n",
       "          2                       821\n",
       "          3                       149\n",
       "          4                        24\n",
       "          5                         2\n",
       "dtype: int64"
      ]
     },
     "execution_count": 44,
     "metadata": {},
     "output_type": "execute_result"
    }
   ],
   "source": [
    "#blueTowerDestroyed >=1 blue more possible to win.\n",
    "df_dif_LDA[df_dif_LDA['blue_win']==1].groupby(['blue_win','blueTowersDestroyed']).size()"
   ]
  },
  {
   "cell_type": "markdown",
   "id": "de2c79cb",
   "metadata": {},
   "source": [
    "## Optimize Red Team Win (blue_win=0)"
   ]
  },
  {
   "cell_type": "markdown",
   "id": "00f99611",
   "metadata": {},
   "source": [
    "with 0/1 herald is not enough for red_team to win, but if red herald kills>=2, higher probability to win"
   ]
  },
  {
   "cell_type": "code",
   "execution_count": 45,
   "id": "3c568a31",
   "metadata": {
    "scrolled": false
   },
   "outputs": [
    {
     "data": {
      "text/plain": [
       "blue_win  redHeraldKills\n",
       "0         0                 2405\n",
       "          1                 7946\n",
       "          2                 8931\n",
       "          3                 4759\n",
       "          4                   21\n",
       "dtype: int64"
      ]
     },
     "execution_count": 45,
     "metadata": {},
     "output_type": "execute_result"
    }
   ],
   "source": [
    "df[df['blue_win']==0].groupby(['blue_win','redHeraldKills']).size()"
   ]
  },
  {
   "cell_type": "markdown",
   "id": "97ffe867",
   "metadata": {},
   "source": [
    "majority of red win will be when red herald kills <=1"
   ]
  },
  {
   "cell_type": "code",
   "execution_count": 46,
   "id": "09e1fa25",
   "metadata": {
    "scrolled": true
   },
   "outputs": [
    {
     "data": {
      "text/plain": [
       "blue_win  redHeraldKills\n",
       "0         0                 1554\n",
       "          1                 2840\n",
       "          2                 1367\n",
       "          3                  163\n",
       "dtype: int64"
      ]
     },
     "execution_count": 46,
     "metadata": {},
     "output_type": "execute_result"
    }
   ],
   "source": [
    "df_dif_LDA[df_dif_LDA['blue_win']==0].groupby(['blue_win','redHeraldKills']).size( )"
   ]
  },
  {
   "cell_type": "markdown",
   "id": "93ada290",
   "metadata": {},
   "source": [
    "No obvious influence on win/loss"
   ]
  },
  {
   "cell_type": "code",
   "execution_count": 47,
   "id": "305e1ef9",
   "metadata": {},
   "outputs": [
    {
     "data": {
      "text/plain": [
       "blue_win  redChampKills\n",
       "0         0                  2\n",
       "          1                  4\n",
       "          2                 11\n",
       "          3                 53\n",
       "          4                 97\n",
       "          5                175\n",
       "          6                306\n",
       "          7                424\n",
       "          8                471\n",
       "          9                559\n",
       "          10               585\n",
       "          11               614\n",
       "          12               592\n",
       "          13               498\n",
       "          14               415\n",
       "          15               348\n",
       "          16               236\n",
       "          17               176\n",
       "          18               117\n",
       "          19                85\n",
       "          20                71\n",
       "          21                38\n",
       "          22                22\n",
       "          23                14\n",
       "          24                 4\n",
       "          25                 4\n",
       "          26                 2\n",
       "          28                 1\n",
       "dtype: int64"
      ]
     },
     "execution_count": 47,
     "metadata": {},
     "output_type": "execute_result"
    }
   ],
   "source": [
    "df_dif_LDA[df_dif_LDA['blue_win']==0].groupby(['blue_win','redChampKills']).size()"
   ]
  },
  {
   "cell_type": "markdown",
   "id": "5b8306dd",
   "metadata": {},
   "source": [
    "Important factor:  redTowersDestroyed>=2 , more inclined to lose; redTowerDestroyed=0, inclined to win"
   ]
  },
  {
   "cell_type": "code",
   "execution_count": 48,
   "id": "8ae917a2",
   "metadata": {},
   "outputs": [
    {
     "data": {
      "text/plain": [
       "blue_win\n",
       "0    19179\n",
       "1     9963\n",
       "Name: count, dtype: int64"
      ]
     },
     "execution_count": 48,
     "metadata": {},
     "output_type": "execute_result"
    }
   ],
   "source": [
    "df[(df['redTowersDestroyed']==0)|(df['redHeraldKills']>=2)]['blue_win'].value_counts()"
   ]
  },
  {
   "cell_type": "code",
   "execution_count": 49,
   "id": "5e35c098",
   "metadata": {
    "scrolled": true
   },
   "outputs": [
    {
     "data": {
      "text/plain": [
       "blue_win  redTowersDestroyed\n",
       "0         0                     15218\n",
       "          1                      7081\n",
       "          2                      1488\n",
       "          3                       237\n",
       "          4                        35\n",
       "          5                         2\n",
       "          6                         1\n",
       "dtype: int64"
      ]
     },
     "execution_count": 49,
     "metadata": {},
     "output_type": "execute_result"
    }
   ],
   "source": [
    "df[df['blue_win']==0].groupby(['blue_win','redTowersDestroyed']).size()"
   ]
  },
  {
   "cell_type": "code",
   "execution_count": 50,
   "id": "32c87542",
   "metadata": {
    "scrolled": true
   },
   "outputs": [
    {
     "data": {
      "text/plain": [
       "blue_win  redTowersDestroyed\n",
       "0         0                     1752\n",
       "          1                     2845\n",
       "          2                     1078\n",
       "          3                      213\n",
       "          4                       33\n",
       "          5                        2\n",
       "          6                        1\n",
       "dtype: int64"
      ]
     },
     "execution_count": 50,
     "metadata": {},
     "output_type": "execute_result"
    }
   ],
   "source": [
    "df_dif_LDA[df_dif_LDA['blue_win']==0].groupby(['blue_win','redTowersDestroyed']).size()"
   ]
  },
  {
   "cell_type": "code",
   "execution_count": 51,
   "id": "4fc4dcbd",
   "metadata": {
    "scrolled": false
   },
   "outputs": [
    {
     "data": {
      "text/plain": [
       "count    5797.000000\n",
       "mean        1.562705\n",
       "std         0.839055\n",
       "min         0.000000\n",
       "25%         1.000000\n",
       "50%         2.000000\n",
       "75%         2.000000\n",
       "max         4.000000\n",
       "Name: redHeraldKills, dtype: float64"
      ]
     },
     "execution_count": 51,
     "metadata": {},
     "output_type": "execute_result"
    }
   ],
   "source": [
    "df_dif_LDA[df_dif_LDA['blue_win']==1]['redHeraldKills'].describe()"
   ]
  },
  {
   "cell_type": "markdown",
   "id": "81028968",
   "metadata": {},
   "source": [
    "## Strategy 0 "
   ]
  },
  {
   "cell_type": "markdown",
   "id": "0523df62",
   "metadata": {},
   "source": [
    "Combining LDA + NB"
   ]
  },
  {
   "cell_type": "code",
   "execution_count": 52,
   "id": "7c3985c1",
   "metadata": {},
   "outputs": [],
   "source": [
    "df.insert(5,'Strategy 0',0)"
   ]
  },
  {
   "cell_type": "code",
   "execution_count": 53,
   "id": "0768e6bc",
   "metadata": {},
   "outputs": [
    {
     "name": "stdout",
     "output_type": "stream",
     "text": [
      "0.9511212513617398\n",
      "0.7342500668023267\n",
      "48651\n"
     ]
    }
   ],
   "source": [
    "same=0\n",
    "diff=0\n",
    "correct_guess=0\n",
    "i=0\n",
    "for elem in df['LDA_Predict']:\n",
    "    if elem==df.loc[i,'NB_Predict']:\n",
    "        same+=1\n",
    "        if elem==df.loc[i,'blue_win']:\n",
    "            correct_guess+=1\n",
    "    else:\n",
    "        diff+=1\n",
    "    i+=1\n",
    "count=diff+same\n",
    "print(same/count)\n",
    "print(correct_guess/count)\n",
    "print(count)\n",
    "\n",
    "#The accuracy of combining two strategy fails. 73.43% accuracy\n",
    "#Strategy: if they both have the same signal in LDA and NB, then take it, compare to the real label-blue_win. "
   ]
  },
  {
   "cell_type": "code",
   "execution_count": 54,
   "id": "6db5c05e",
   "metadata": {},
   "outputs": [],
   "source": [
    "import random\n",
    "\n",
    "i=0\n",
    "for elem in df['LDA_Predict']:\n",
    "    if elem==df.loc[i,'NB_Predict']:\n",
    "        df.loc[i,'Strategy 0']==elem\n",
    "    else:\n",
    "        df.loc[i,'Strategy 0']=np.random.choice([df.loc[i,'NB_Predict'],df.loc[i,'LDA_Predict']])\n",
    "    i+=1"
   ]
  },
  {
   "cell_type": "code",
   "execution_count": 55,
   "id": "8d13b115",
   "metadata": {},
   "outputs": [
    {
     "name": "stdout",
     "output_type": "stream",
     "text": [
      "0.49400834515220654\n",
      "[[23456   606]\n",
      " [24011   578]]\n"
     ]
    }
   ],
   "source": [
    "a=df['blue_win']\n",
    "b=df['Strategy 0']\n",
    "acc=accuracy_score(a,b)\n",
    "cf=confusion_matrix(a,b)\n",
    "print(acc)\n",
    "print(cf)"
   ]
  },
  {
   "cell_type": "code",
   "execution_count": 56,
   "id": "7578c4bc",
   "metadata": {},
   "outputs": [
    {
     "name": "stdout",
     "output_type": "stream",
     "text": [
      "Strategy 0 TPR:2.43%\n",
      "Strategy 0 TNR:97.54%\n"
     ]
    }
   ],
   "source": [
    "S0_TPR=round(597*100/(597+23992),2)\n",
    "S0_TNR=round(23469*100/(23469+593),2)\n",
    "print(f'Strategy 0 TPR:{S0_TPR}%')\n",
    "print(f'Strategy 0 TNR:{S0_TNR}%')"
   ]
  },
  {
   "cell_type": "code",
   "execution_count": 57,
   "id": "1c45be83",
   "metadata": {},
   "outputs": [
    {
     "data": {
      "text/html": [
       "<div>\n",
       "<style scoped>\n",
       "    .dataframe tbody tr th:only-of-type {\n",
       "        vertical-align: middle;\n",
       "    }\n",
       "\n",
       "    .dataframe tbody tr th {\n",
       "        vertical-align: top;\n",
       "    }\n",
       "\n",
       "    .dataframe thead th {\n",
       "        text-align: right;\n",
       "    }\n",
       "</style>\n",
       "<table border=\"1\" class=\"dataframe\">\n",
       "  <thead>\n",
       "    <tr style=\"text-align: right;\">\n",
       "      <th></th>\n",
       "      <th>matchId</th>\n",
       "      <th>blue_win</th>\n",
       "      <th>LDA_Predict</th>\n",
       "      <th>NB_Predict</th>\n",
       "      <th>blueGold</th>\n",
       "      <th>Strategy 0</th>\n",
       "      <th>blueMinionsKilled</th>\n",
       "      <th>KNN</th>\n",
       "      <th>blueJungleMinionsKilled</th>\n",
       "      <th>blueAvgLevel</th>\n",
       "      <th>...</th>\n",
       "      <th>redJungleMinionsKilled</th>\n",
       "      <th>redAvgLevel</th>\n",
       "      <th>blueChampKills</th>\n",
       "      <th>blueHeraldKills</th>\n",
       "      <th>blueDragonKills</th>\n",
       "      <th>blueTowersDestroyed</th>\n",
       "      <th>redChampKills</th>\n",
       "      <th>redHeraldKills</th>\n",
       "      <th>redDragonKills</th>\n",
       "      <th>redTowersDestroyed</th>\n",
       "    </tr>\n",
       "  </thead>\n",
       "  <tbody>\n",
       "    <tr>\n",
       "      <th>0</th>\n",
       "      <td>3493250918</td>\n",
       "      <td>0</td>\n",
       "      <td>0</td>\n",
       "      <td>0</td>\n",
       "      <td>24575</td>\n",
       "      <td>0</td>\n",
       "      <td>349</td>\n",
       "      <td>1</td>\n",
       "      <td>89</td>\n",
       "      <td>8.6</td>\n",
       "      <td>...</td>\n",
       "      <td>80</td>\n",
       "      <td>9.2</td>\n",
       "      <td>6</td>\n",
       "      <td>1</td>\n",
       "      <td>0</td>\n",
       "      <td>1</td>\n",
       "      <td>12</td>\n",
       "      <td>2</td>\n",
       "      <td>0</td>\n",
       "      <td>1</td>\n",
       "    </tr>\n",
       "    <tr>\n",
       "      <th>1</th>\n",
       "      <td>3464936341</td>\n",
       "      <td>0</td>\n",
       "      <td>0</td>\n",
       "      <td>1</td>\n",
       "      <td>27210</td>\n",
       "      <td>1</td>\n",
       "      <td>290</td>\n",
       "      <td>1</td>\n",
       "      <td>36</td>\n",
       "      <td>9.0</td>\n",
       "      <td>...</td>\n",
       "      <td>92</td>\n",
       "      <td>9.4</td>\n",
       "      <td>20</td>\n",
       "      <td>0</td>\n",
       "      <td>0</td>\n",
       "      <td>0</td>\n",
       "      <td>19</td>\n",
       "      <td>2</td>\n",
       "      <td>0</td>\n",
       "      <td>0</td>\n",
       "    </tr>\n",
       "    <tr>\n",
       "      <th>2</th>\n",
       "      <td>3428425921</td>\n",
       "      <td>1</td>\n",
       "      <td>1</td>\n",
       "      <td>1</td>\n",
       "      <td>32048</td>\n",
       "      <td>0</td>\n",
       "      <td>346</td>\n",
       "      <td>1</td>\n",
       "      <td>92</td>\n",
       "      <td>9.4</td>\n",
       "      <td>...</td>\n",
       "      <td>84</td>\n",
       "      <td>9.4</td>\n",
       "      <td>17</td>\n",
       "      <td>3</td>\n",
       "      <td>0</td>\n",
       "      <td>0</td>\n",
       "      <td>11</td>\n",
       "      <td>0</td>\n",
       "      <td>0</td>\n",
       "      <td>4</td>\n",
       "    </tr>\n",
       "    <tr>\n",
       "      <th>3</th>\n",
       "      <td>3428347390</td>\n",
       "      <td>0</td>\n",
       "      <td>0</td>\n",
       "      <td>0</td>\n",
       "      <td>20261</td>\n",
       "      <td>0</td>\n",
       "      <td>223</td>\n",
       "      <td>1</td>\n",
       "      <td>60</td>\n",
       "      <td>8.2</td>\n",
       "      <td>...</td>\n",
       "      <td>107</td>\n",
       "      <td>9.4</td>\n",
       "      <td>7</td>\n",
       "      <td>0</td>\n",
       "      <td>0</td>\n",
       "      <td>3</td>\n",
       "      <td>16</td>\n",
       "      <td>3</td>\n",
       "      <td>0</td>\n",
       "      <td>0</td>\n",
       "    </tr>\n",
       "    <tr>\n",
       "      <th>4</th>\n",
       "      <td>3428350940</td>\n",
       "      <td>1</td>\n",
       "      <td>1</td>\n",
       "      <td>1</td>\n",
       "      <td>30217</td>\n",
       "      <td>0</td>\n",
       "      <td>376</td>\n",
       "      <td>1</td>\n",
       "      <td>110</td>\n",
       "      <td>9.8</td>\n",
       "      <td>...</td>\n",
       "      <td>60</td>\n",
       "      <td>8.8</td>\n",
       "      <td>16</td>\n",
       "      <td>3</td>\n",
       "      <td>0</td>\n",
       "      <td>0</td>\n",
       "      <td>8</td>\n",
       "      <td>0</td>\n",
       "      <td>0</td>\n",
       "      <td>2</td>\n",
       "    </tr>\n",
       "    <tr>\n",
       "      <th>...</th>\n",
       "      <td>...</td>\n",
       "      <td>...</td>\n",
       "      <td>...</td>\n",
       "      <td>...</td>\n",
       "      <td>...</td>\n",
       "      <td>...</td>\n",
       "      <td>...</td>\n",
       "      <td>...</td>\n",
       "      <td>...</td>\n",
       "      <td>...</td>\n",
       "      <td>...</td>\n",
       "      <td>...</td>\n",
       "      <td>...</td>\n",
       "      <td>...</td>\n",
       "      <td>...</td>\n",
       "      <td>...</td>\n",
       "      <td>...</td>\n",
       "      <td>...</td>\n",
       "      <td>...</td>\n",
       "      <td>...</td>\n",
       "      <td>...</td>\n",
       "    </tr>\n",
       "    <tr>\n",
       "      <th>48646</th>\n",
       "      <td>3475682007</td>\n",
       "      <td>0</td>\n",
       "      <td>1</td>\n",
       "      <td>0</td>\n",
       "      <td>27013</td>\n",
       "      <td>1</td>\n",
       "      <td>338</td>\n",
       "      <td>1</td>\n",
       "      <td>61</td>\n",
       "      <td>9.0</td>\n",
       "      <td>...</td>\n",
       "      <td>77</td>\n",
       "      <td>9.6</td>\n",
       "      <td>14</td>\n",
       "      <td>2</td>\n",
       "      <td>0</td>\n",
       "      <td>2</td>\n",
       "      <td>21</td>\n",
       "      <td>0</td>\n",
       "      <td>0</td>\n",
       "      <td>0</td>\n",
       "    </tr>\n",
       "    <tr>\n",
       "      <th>48647</th>\n",
       "      <td>3500987969</td>\n",
       "      <td>1</td>\n",
       "      <td>1</td>\n",
       "      <td>1</td>\n",
       "      <td>25376</td>\n",
       "      <td>0</td>\n",
       "      <td>350</td>\n",
       "      <td>1</td>\n",
       "      <td>91</td>\n",
       "      <td>9.0</td>\n",
       "      <td>...</td>\n",
       "      <td>87</td>\n",
       "      <td>9.4</td>\n",
       "      <td>7</td>\n",
       "      <td>2</td>\n",
       "      <td>0</td>\n",
       "      <td>0</td>\n",
       "      <td>5</td>\n",
       "      <td>1</td>\n",
       "      <td>0</td>\n",
       "      <td>1</td>\n",
       "    </tr>\n",
       "    <tr>\n",
       "      <th>48648</th>\n",
       "      <td>3496592883</td>\n",
       "      <td>0</td>\n",
       "      <td>0</td>\n",
       "      <td>0</td>\n",
       "      <td>25456</td>\n",
       "      <td>0</td>\n",
       "      <td>308</td>\n",
       "      <td>1</td>\n",
       "      <td>92</td>\n",
       "      <td>9.0</td>\n",
       "      <td>...</td>\n",
       "      <td>96</td>\n",
       "      <td>9.6</td>\n",
       "      <td>8</td>\n",
       "      <td>0</td>\n",
       "      <td>0</td>\n",
       "      <td>2</td>\n",
       "      <td>17</td>\n",
       "      <td>3</td>\n",
       "      <td>0</td>\n",
       "      <td>1</td>\n",
       "    </tr>\n",
       "    <tr>\n",
       "      <th>48649</th>\n",
       "      <td>3491705900</td>\n",
       "      <td>1</td>\n",
       "      <td>1</td>\n",
       "      <td>1</td>\n",
       "      <td>27033</td>\n",
       "      <td>0</td>\n",
       "      <td>335</td>\n",
       "      <td>1</td>\n",
       "      <td>85</td>\n",
       "      <td>9.4</td>\n",
       "      <td>...</td>\n",
       "      <td>64</td>\n",
       "      <td>8.8</td>\n",
       "      <td>14</td>\n",
       "      <td>2</td>\n",
       "      <td>0</td>\n",
       "      <td>0</td>\n",
       "      <td>12</td>\n",
       "      <td>0</td>\n",
       "      <td>0</td>\n",
       "      <td>0</td>\n",
       "    </tr>\n",
       "    <tr>\n",
       "      <th>48650</th>\n",
       "      <td>3478246638</td>\n",
       "      <td>0</td>\n",
       "      <td>0</td>\n",
       "      <td>0</td>\n",
       "      <td>23194</td>\n",
       "      <td>0</td>\n",
       "      <td>325</td>\n",
       "      <td>1</td>\n",
       "      <td>81</td>\n",
       "      <td>9.0</td>\n",
       "      <td>...</td>\n",
       "      <td>81</td>\n",
       "      <td>9.4</td>\n",
       "      <td>7</td>\n",
       "      <td>1</td>\n",
       "      <td>0</td>\n",
       "      <td>2</td>\n",
       "      <td>13</td>\n",
       "      <td>1</td>\n",
       "      <td>0</td>\n",
       "      <td>0</td>\n",
       "    </tr>\n",
       "  </tbody>\n",
       "</table>\n",
       "<p>48651 rows × 22 columns</p>\n",
       "</div>"
      ],
      "text/plain": [
       "          matchId  blue_win  LDA_Predict  NB_Predict  blueGold  Strategy 0  \\\n",
       "0      3493250918         0            0           0     24575           0   \n",
       "1      3464936341         0            0           1     27210           1   \n",
       "2      3428425921         1            1           1     32048           0   \n",
       "3      3428347390         0            0           0     20261           0   \n",
       "4      3428350940         1            1           1     30217           0   \n",
       "...           ...       ...          ...         ...       ...         ...   \n",
       "48646  3475682007         0            1           0     27013           1   \n",
       "48647  3500987969         1            1           1     25376           0   \n",
       "48648  3496592883         0            0           0     25456           0   \n",
       "48649  3491705900         1            1           1     27033           0   \n",
       "48650  3478246638         0            0           0     23194           0   \n",
       "\n",
       "       blueMinionsKilled  KNN  blueJungleMinionsKilled  blueAvgLevel  ...  \\\n",
       "0                    349    1                       89           8.6  ...   \n",
       "1                    290    1                       36           9.0  ...   \n",
       "2                    346    1                       92           9.4  ...   \n",
       "3                    223    1                       60           8.2  ...   \n",
       "4                    376    1                      110           9.8  ...   \n",
       "...                  ...  ...                      ...           ...  ...   \n",
       "48646                338    1                       61           9.0  ...   \n",
       "48647                350    1                       91           9.0  ...   \n",
       "48648                308    1                       92           9.0  ...   \n",
       "48649                335    1                       85           9.4  ...   \n",
       "48650                325    1                       81           9.0  ...   \n",
       "\n",
       "       redJungleMinionsKilled  redAvgLevel  blueChampKills  blueHeraldKills  \\\n",
       "0                          80          9.2               6                1   \n",
       "1                          92          9.4              20                0   \n",
       "2                          84          9.4              17                3   \n",
       "3                         107          9.4               7                0   \n",
       "4                          60          8.8              16                3   \n",
       "...                       ...          ...             ...              ...   \n",
       "48646                      77          9.6              14                2   \n",
       "48647                      87          9.4               7                2   \n",
       "48648                      96          9.6               8                0   \n",
       "48649                      64          8.8              14                2   \n",
       "48650                      81          9.4               7                1   \n",
       "\n",
       "       blueDragonKills  blueTowersDestroyed  redChampKills  redHeraldKills  \\\n",
       "0                    0                    1             12               2   \n",
       "1                    0                    0             19               2   \n",
       "2                    0                    0             11               0   \n",
       "3                    0                    3             16               3   \n",
       "4                    0                    0              8               0   \n",
       "...                ...                  ...            ...             ...   \n",
       "48646                0                    2             21               0   \n",
       "48647                0                    0              5               1   \n",
       "48648                0                    2             17               3   \n",
       "48649                0                    0             12               0   \n",
       "48650                0                    2             13               1   \n",
       "\n",
       "       redDragonKills  redTowersDestroyed  \n",
       "0                   0                   1  \n",
       "1                   0                   0  \n",
       "2                   0                   4  \n",
       "3                   0                   0  \n",
       "4                   0                   2  \n",
       "...               ...                 ...  \n",
       "48646               0                   0  \n",
       "48647               0                   1  \n",
       "48648               0                   1  \n",
       "48649               0                   0  \n",
       "48650               0                   0  \n",
       "\n",
       "[48651 rows x 22 columns]"
      ]
     },
     "execution_count": 57,
     "metadata": {},
     "output_type": "execute_result"
    }
   ],
   "source": [
    "df"
   ]
  },
  {
   "cell_type": "markdown",
   "id": "c1313805",
   "metadata": {},
   "source": [
    "## Strategy I"
   ]
  },
  {
   "cell_type": "markdown",
   "id": "c941b4fc",
   "metadata": {},
   "source": [
    "According to the stats data from table(LDA wrongly predicted) to find the pattern and implement"
   ]
  },
  {
   "cell_type": "code",
   "execution_count": 58,
   "id": "04c669da",
   "metadata": {},
   "outputs": [],
   "source": [
    "df.insert(6,'Strategy I',0)"
   ]
  },
  {
   "cell_type": "code",
   "execution_count": 59,
   "id": "2a4c942b",
   "metadata": {},
   "outputs": [],
   "source": [
    "i=0\n",
    "for e in df['LDA_Predict']:\n",
    "    if e==0:     \n",
    "        if (df.loc[i,'redTowersDestroyed']==0) | (df.loc[i,'redHeraldKills']>=2):\n",
    "            df.loc[i,'Strategy I']=1\n",
    "        else:\n",
    "            df.loc[i,'Strategy I']=0\n",
    "    elif e==1:\n",
    "        if (df.loc[i,'blueTowersDestroyed']<1) | (df.loc[i,'blueHeraldKills']>=2):\n",
    "            df.loc[i,'Strategy I']=0\n",
    "        else:\n",
    "            df.loc[i,'Strategy I']=1\n",
    "    i+=1"
   ]
  },
  {
   "cell_type": "code",
   "execution_count": 60,
   "id": "2fd81990",
   "metadata": {
    "scrolled": true
   },
   "outputs": [
    {
     "name": "stdout",
     "output_type": "stream",
     "text": [
      "0.26858646276541076\n",
      "[[ 6727 17335]\n",
      " [18249  6340]]\n"
     ]
    }
   ],
   "source": [
    "# Calculate Accuracy and Confusion Matrix\n",
    "a=df['blue_win']\n",
    "b=df['Strategy I']\n",
    "acc=accuracy_score(a,b)\n",
    "cf=confusion_matrix(a,b)\n",
    "print(acc)\n",
    "print(cf)"
   ]
  },
  {
   "cell_type": "code",
   "execution_count": 61,
   "id": "5ab7f48d",
   "metadata": {},
   "outputs": [
    {
     "name": "stdout",
     "output_type": "stream",
     "text": [
      "Strategy I TPR:25.78%\n",
      "Strategy I TNR:27.96%\n"
     ]
    }
   ],
   "source": [
    "S1_TPR=round(6340*100/(6340+18249),2)\n",
    "S1_TNR=round(6727*100/(6727+17335),2)\n",
    "print(f'Strategy I TPR:{S1_TPR}%')\n",
    "print(f'Strategy I TNR:{S1_TNR}%')"
   ]
  },
  {
   "cell_type": "code",
   "execution_count": 62,
   "id": "6e35186b",
   "metadata": {
    "scrolled": true
   },
   "outputs": [
    {
     "data": {
      "text/plain": [
       "blueHeraldKills\n",
       "2                  2488\n",
       "1                  2168\n",
       "3                   914\n",
       "0                   349\n",
       "4                     5\n",
       "Name: count, dtype: int64"
      ]
     },
     "execution_count": 62,
     "metadata": {},
     "output_type": "execute_result"
    }
   ],
   "source": [
    "df_dif_LDA[df_dif_LDA['blue_win']==0][['blueHeraldKills']].value_counts()"
   ]
  },
  {
   "cell_type": "code",
   "execution_count": 63,
   "id": "40cbb7e1",
   "metadata": {
    "scrolled": true
   },
   "outputs": [
    {
     "data": {
      "text/plain": [
       "blueHeraldKills\n",
       "1                  2932\n",
       "0                  1739\n",
       "2                  1052\n",
       "3                    74\n",
       "Name: count, dtype: int64"
      ]
     },
     "execution_count": 63,
     "metadata": {},
     "output_type": "execute_result"
    }
   ],
   "source": [
    "df_dif_LDA[df_dif_LDA['blue_win']==1][['blueHeraldKills']].value_counts()"
   ]
  },
  {
   "cell_type": "code",
   "execution_count": 64,
   "id": "c1793b84",
   "metadata": {},
   "outputs": [
    {
     "data": {
      "text/plain": [
       "blueTowersDestroyed\n",
       "0                      3549\n",
       "1                      2057\n",
       "2                       293\n",
       "3                        25\n",
       "Name: count, dtype: int64"
      ]
     },
     "execution_count": 64,
     "metadata": {},
     "output_type": "execute_result"
    }
   ],
   "source": [
    "df_dif_LDA[df_dif_LDA['blue_win']==0][['blueTowersDestroyed']].value_counts()"
   ]
  },
  {
   "cell_type": "code",
   "execution_count": 65,
   "id": "f324b86f",
   "metadata": {},
   "outputs": [
    {
     "data": {
      "text/plain": [
       "blueTowersDestroyed\n",
       "1                      2530\n",
       "0                      2271\n",
       "2                       821\n",
       "3                       149\n",
       "4                        24\n",
       "5                         2\n",
       "Name: count, dtype: int64"
      ]
     },
     "execution_count": 65,
     "metadata": {},
     "output_type": "execute_result"
    }
   ],
   "source": [
    "df_dif_LDA[df_dif_LDA['blue_win']==1][['blueTowersDestroyed']].value_counts()"
   ]
  },
  {
   "cell_type": "markdown",
   "id": "d4aff733",
   "metadata": {},
   "source": [
    "## Strategy II"
   ]
  },
  {
   "cell_type": "markdown",
   "id": "879e3bba",
   "metadata": {},
   "source": [
    "According to the stats data from table(LDA wrongly predicted) and other variables [ChampKills][Heraldkills][TowersDestroyed]\n",
    "make a strategy to implement"
   ]
  },
  {
   "cell_type": "code",
   "execution_count": 66,
   "id": "e0ab0158",
   "metadata": {},
   "outputs": [],
   "source": [
    "df.insert(7,'Strategy II',0)"
   ]
  },
  {
   "cell_type": "code",
   "execution_count": 67,
   "id": "68fe2463",
   "metadata": {},
   "outputs": [],
   "source": [
    "i=0\n",
    "for e in df['LDA_Predict']:\n",
    "    if e==0:     \n",
    "        if df.loc[i,'blueChampKills']< df.loc[i,'redChampKills']:\n",
    "            df.loc[i,'Strategy II']=e\n",
    "        if (df.loc[i,'blueTowersDestroyed']==1) | (df.loc[i,'blueHeraldKills']==1):\n",
    "            df.loc[i,'Strategy II']=1    \n",
    "        else:\n",
    "            df.loc[i,'Strategy II']==e\n",
    "            \n",
    "    elif e==1:\n",
    "        if df.loc[i,'blueChampKills']> df.loc[i,'redChampKills']:\n",
    "            df.loc[i,'Strategy II']=e\n",
    "        if (df.loc[i,'blueTowersDestroyed']==0) | (df.loc[i,'blueHeraldKills']==2):\n",
    "            df.loc[i,'Strategy II']=0\n",
    "        else:\n",
    "            df.loc[i,'Strategy II']==e\n",
    "    i+=1"
   ]
  },
  {
   "cell_type": "code",
   "execution_count": 68,
   "id": "6eecffd8",
   "metadata": {},
   "outputs": [
    {
     "name": "stdout",
     "output_type": "stream",
     "text": [
      "0.3666317239111221\n",
      "[[11726 12336]\n",
      " [18478  6111]]\n"
     ]
    }
   ],
   "source": [
    "# Calculate Accuracy and Confusion Matrix\n",
    "a=df['blue_win']\n",
    "b=df['Strategy II']\n",
    "acc=accuracy_score(a,b)\n",
    "cf=confusion_matrix(a,b)\n",
    "print(acc)\n",
    "print(cf)"
   ]
  },
  {
   "cell_type": "code",
   "execution_count": 69,
   "id": "20b1a2f2",
   "metadata": {},
   "outputs": [
    {
     "name": "stdout",
     "output_type": "stream",
     "text": [
      "Strategy II TPR:24.85%\n",
      "Strategy II TNR:48.73%\n"
     ]
    }
   ],
   "source": [
    "S2_TPR=round(6111*100/(6111+18478),2)\n",
    "S2_TNR=round(11726*100/(11726+12336),2)\n",
    "print(f'Strategy II TPR:{S2_TPR}%')\n",
    "print(f'Strategy II TNR:{S2_TNR}%')"
   ]
  },
  {
   "cell_type": "markdown",
   "id": "4c11467e",
   "metadata": {},
   "source": [
    "## Strategy III"
   ]
  },
  {
   "cell_type": "markdown",
   "id": "6d3f1c7e",
   "metadata": {},
   "source": [
    "Based on LDA Predict, and add [ChampKills] [Gold] variables to implement"
   ]
  },
  {
   "cell_type": "code",
   "execution_count": 70,
   "id": "57defacb",
   "metadata": {},
   "outputs": [],
   "source": [
    "df.insert(8,'Strategy III',0)"
   ]
  },
  {
   "cell_type": "code",
   "execution_count": 71,
   "id": "ffca29eb",
   "metadata": {},
   "outputs": [],
   "source": [
    "i=0\n",
    "for e in df['LDA_Predict']:\n",
    "    if e==0:     \n",
    "        if (df.loc[i,'blueChampKills']> df.loc[i,'redChampKills']) & (df.loc[i,'redGold']<= df.loc[i,'blueGold']):\n",
    "            df.loc[i,'Strategy III']=1\n",
    "        else:\n",
    "            df.loc[i,'Strategy III']=e\n",
    "            \n",
    "    elif e==1:\n",
    "        if (df.loc[i,'blueChampKills']< df.loc[i,'redChampKills']) &(df.loc[i,'redGold']>= df.loc[i,'blueGold']):\n",
    "            df.loc[i,'Strategy III']=0\n",
    "        else:\n",
    "            df.loc[i,'Strategy III']=e\n",
    "    i+=1"
   ]
  },
  {
   "cell_type": "code",
   "execution_count": 72,
   "id": "8d560fcd",
   "metadata": {
    "scrolled": true
   },
   "outputs": [
    {
     "name": "stdout",
     "output_type": "stream",
     "text": [
      "0.7794084397031921\n",
      "[[18507  5555]\n",
      " [ 5177 19412]]\n"
     ]
    }
   ],
   "source": [
    "# Calculate Accuracy and Confusion Matrix\n",
    "a=df['blue_win']\n",
    "b=df['Strategy III']\n",
    "acc=accuracy_score(a,b)\n",
    "cf=confusion_matrix(a,b)\n",
    "print(acc)\n",
    "print(cf)"
   ]
  },
  {
   "cell_type": "code",
   "execution_count": 73,
   "id": "c6b43e6e",
   "metadata": {},
   "outputs": [
    {
     "name": "stdout",
     "output_type": "stream",
     "text": [
      "Strategy III TPR:78.95%\n",
      "Strategy III TNR:76.91%\n"
     ]
    }
   ],
   "source": [
    "S3_TPR=round(19412*100/(19412+5177),2)\n",
    "S3_TNR=round(18507*100/(18507+5555),2)\n",
    "print(f'Strategy III TPR:{S3_TPR}%')\n",
    "print(f'Strategy III TNR:{S3_TNR}%')"
   ]
  },
  {
   "cell_type": "code",
   "execution_count": 74,
   "id": "302bc778",
   "metadata": {
    "scrolled": true
   },
   "outputs": [
    {
     "data": {
      "text/html": [
       "<div>\n",
       "<style scoped>\n",
       "    .dataframe tbody tr th:only-of-type {\n",
       "        vertical-align: middle;\n",
       "    }\n",
       "\n",
       "    .dataframe tbody tr th {\n",
       "        vertical-align: top;\n",
       "    }\n",
       "\n",
       "    .dataframe thead th {\n",
       "        text-align: right;\n",
       "    }\n",
       "</style>\n",
       "<table border=\"1\" class=\"dataframe\">\n",
       "  <thead>\n",
       "    <tr style=\"text-align: right;\">\n",
       "      <th></th>\n",
       "      <th>matchId</th>\n",
       "      <th>blue_win</th>\n",
       "      <th>LDA_Predict</th>\n",
       "      <th>NB_Predict</th>\n",
       "      <th>blueGold</th>\n",
       "      <th>Strategy 0</th>\n",
       "      <th>Strategy I</th>\n",
       "      <th>Strategy II</th>\n",
       "      <th>Strategy III</th>\n",
       "      <th>blueMinionsKilled</th>\n",
       "      <th>...</th>\n",
       "      <th>redJungleMinionsKilled</th>\n",
       "      <th>redAvgLevel</th>\n",
       "      <th>blueChampKills</th>\n",
       "      <th>blueHeraldKills</th>\n",
       "      <th>blueDragonKills</th>\n",
       "      <th>blueTowersDestroyed</th>\n",
       "      <th>redChampKills</th>\n",
       "      <th>redHeraldKills</th>\n",
       "      <th>redDragonKills</th>\n",
       "      <th>redTowersDestroyed</th>\n",
       "    </tr>\n",
       "  </thead>\n",
       "  <tbody>\n",
       "    <tr>\n",
       "      <th>0</th>\n",
       "      <td>3493250918</td>\n",
       "      <td>0</td>\n",
       "      <td>0</td>\n",
       "      <td>0</td>\n",
       "      <td>24575</td>\n",
       "      <td>0</td>\n",
       "      <td>1</td>\n",
       "      <td>1</td>\n",
       "      <td>0</td>\n",
       "      <td>349</td>\n",
       "      <td>...</td>\n",
       "      <td>80</td>\n",
       "      <td>9.2</td>\n",
       "      <td>6</td>\n",
       "      <td>1</td>\n",
       "      <td>0</td>\n",
       "      <td>1</td>\n",
       "      <td>12</td>\n",
       "      <td>2</td>\n",
       "      <td>0</td>\n",
       "      <td>1</td>\n",
       "    </tr>\n",
       "    <tr>\n",
       "      <th>1</th>\n",
       "      <td>3464936341</td>\n",
       "      <td>0</td>\n",
       "      <td>0</td>\n",
       "      <td>1</td>\n",
       "      <td>27210</td>\n",
       "      <td>1</td>\n",
       "      <td>1</td>\n",
       "      <td>0</td>\n",
       "      <td>0</td>\n",
       "      <td>290</td>\n",
       "      <td>...</td>\n",
       "      <td>92</td>\n",
       "      <td>9.4</td>\n",
       "      <td>20</td>\n",
       "      <td>0</td>\n",
       "      <td>0</td>\n",
       "      <td>0</td>\n",
       "      <td>19</td>\n",
       "      <td>2</td>\n",
       "      <td>0</td>\n",
       "      <td>0</td>\n",
       "    </tr>\n",
       "    <tr>\n",
       "      <th>2</th>\n",
       "      <td>3428425921</td>\n",
       "      <td>1</td>\n",
       "      <td>1</td>\n",
       "      <td>1</td>\n",
       "      <td>32048</td>\n",
       "      <td>0</td>\n",
       "      <td>0</td>\n",
       "      <td>0</td>\n",
       "      <td>1</td>\n",
       "      <td>346</td>\n",
       "      <td>...</td>\n",
       "      <td>84</td>\n",
       "      <td>9.4</td>\n",
       "      <td>17</td>\n",
       "      <td>3</td>\n",
       "      <td>0</td>\n",
       "      <td>0</td>\n",
       "      <td>11</td>\n",
       "      <td>0</td>\n",
       "      <td>0</td>\n",
       "      <td>4</td>\n",
       "    </tr>\n",
       "    <tr>\n",
       "      <th>3</th>\n",
       "      <td>3428347390</td>\n",
       "      <td>0</td>\n",
       "      <td>0</td>\n",
       "      <td>0</td>\n",
       "      <td>20261</td>\n",
       "      <td>0</td>\n",
       "      <td>1</td>\n",
       "      <td>0</td>\n",
       "      <td>0</td>\n",
       "      <td>223</td>\n",
       "      <td>...</td>\n",
       "      <td>107</td>\n",
       "      <td>9.4</td>\n",
       "      <td>7</td>\n",
       "      <td>0</td>\n",
       "      <td>0</td>\n",
       "      <td>3</td>\n",
       "      <td>16</td>\n",
       "      <td>3</td>\n",
       "      <td>0</td>\n",
       "      <td>0</td>\n",
       "    </tr>\n",
       "    <tr>\n",
       "      <th>4</th>\n",
       "      <td>3428350940</td>\n",
       "      <td>1</td>\n",
       "      <td>1</td>\n",
       "      <td>1</td>\n",
       "      <td>30217</td>\n",
       "      <td>0</td>\n",
       "      <td>0</td>\n",
       "      <td>0</td>\n",
       "      <td>1</td>\n",
       "      <td>376</td>\n",
       "      <td>...</td>\n",
       "      <td>60</td>\n",
       "      <td>8.8</td>\n",
       "      <td>16</td>\n",
       "      <td>3</td>\n",
       "      <td>0</td>\n",
       "      <td>0</td>\n",
       "      <td>8</td>\n",
       "      <td>0</td>\n",
       "      <td>0</td>\n",
       "      <td>2</td>\n",
       "    </tr>\n",
       "    <tr>\n",
       "      <th>...</th>\n",
       "      <td>...</td>\n",
       "      <td>...</td>\n",
       "      <td>...</td>\n",
       "      <td>...</td>\n",
       "      <td>...</td>\n",
       "      <td>...</td>\n",
       "      <td>...</td>\n",
       "      <td>...</td>\n",
       "      <td>...</td>\n",
       "      <td>...</td>\n",
       "      <td>...</td>\n",
       "      <td>...</td>\n",
       "      <td>...</td>\n",
       "      <td>...</td>\n",
       "      <td>...</td>\n",
       "      <td>...</td>\n",
       "      <td>...</td>\n",
       "      <td>...</td>\n",
       "      <td>...</td>\n",
       "      <td>...</td>\n",
       "      <td>...</td>\n",
       "    </tr>\n",
       "    <tr>\n",
       "      <th>48646</th>\n",
       "      <td>3475682007</td>\n",
       "      <td>0</td>\n",
       "      <td>1</td>\n",
       "      <td>0</td>\n",
       "      <td>27013</td>\n",
       "      <td>1</td>\n",
       "      <td>0</td>\n",
       "      <td>0</td>\n",
       "      <td>0</td>\n",
       "      <td>338</td>\n",
       "      <td>...</td>\n",
       "      <td>77</td>\n",
       "      <td>9.6</td>\n",
       "      <td>14</td>\n",
       "      <td>2</td>\n",
       "      <td>0</td>\n",
       "      <td>2</td>\n",
       "      <td>21</td>\n",
       "      <td>0</td>\n",
       "      <td>0</td>\n",
       "      <td>0</td>\n",
       "    </tr>\n",
       "    <tr>\n",
       "      <th>48647</th>\n",
       "      <td>3500987969</td>\n",
       "      <td>1</td>\n",
       "      <td>1</td>\n",
       "      <td>1</td>\n",
       "      <td>25376</td>\n",
       "      <td>0</td>\n",
       "      <td>0</td>\n",
       "      <td>0</td>\n",
       "      <td>1</td>\n",
       "      <td>350</td>\n",
       "      <td>...</td>\n",
       "      <td>87</td>\n",
       "      <td>9.4</td>\n",
       "      <td>7</td>\n",
       "      <td>2</td>\n",
       "      <td>0</td>\n",
       "      <td>0</td>\n",
       "      <td>5</td>\n",
       "      <td>1</td>\n",
       "      <td>0</td>\n",
       "      <td>1</td>\n",
       "    </tr>\n",
       "    <tr>\n",
       "      <th>48648</th>\n",
       "      <td>3496592883</td>\n",
       "      <td>0</td>\n",
       "      <td>0</td>\n",
       "      <td>0</td>\n",
       "      <td>25456</td>\n",
       "      <td>0</td>\n",
       "      <td>1</td>\n",
       "      <td>0</td>\n",
       "      <td>0</td>\n",
       "      <td>308</td>\n",
       "      <td>...</td>\n",
       "      <td>96</td>\n",
       "      <td>9.6</td>\n",
       "      <td>8</td>\n",
       "      <td>0</td>\n",
       "      <td>0</td>\n",
       "      <td>2</td>\n",
       "      <td>17</td>\n",
       "      <td>3</td>\n",
       "      <td>0</td>\n",
       "      <td>1</td>\n",
       "    </tr>\n",
       "    <tr>\n",
       "      <th>48649</th>\n",
       "      <td>3491705900</td>\n",
       "      <td>1</td>\n",
       "      <td>1</td>\n",
       "      <td>1</td>\n",
       "      <td>27033</td>\n",
       "      <td>0</td>\n",
       "      <td>0</td>\n",
       "      <td>0</td>\n",
       "      <td>1</td>\n",
       "      <td>335</td>\n",
       "      <td>...</td>\n",
       "      <td>64</td>\n",
       "      <td>8.8</td>\n",
       "      <td>14</td>\n",
       "      <td>2</td>\n",
       "      <td>0</td>\n",
       "      <td>0</td>\n",
       "      <td>12</td>\n",
       "      <td>0</td>\n",
       "      <td>0</td>\n",
       "      <td>0</td>\n",
       "    </tr>\n",
       "    <tr>\n",
       "      <th>48650</th>\n",
       "      <td>3478246638</td>\n",
       "      <td>0</td>\n",
       "      <td>0</td>\n",
       "      <td>0</td>\n",
       "      <td>23194</td>\n",
       "      <td>0</td>\n",
       "      <td>1</td>\n",
       "      <td>1</td>\n",
       "      <td>0</td>\n",
       "      <td>325</td>\n",
       "      <td>...</td>\n",
       "      <td>81</td>\n",
       "      <td>9.4</td>\n",
       "      <td>7</td>\n",
       "      <td>1</td>\n",
       "      <td>0</td>\n",
       "      <td>2</td>\n",
       "      <td>13</td>\n",
       "      <td>1</td>\n",
       "      <td>0</td>\n",
       "      <td>0</td>\n",
       "    </tr>\n",
       "  </tbody>\n",
       "</table>\n",
       "<p>48651 rows × 25 columns</p>\n",
       "</div>"
      ],
      "text/plain": [
       "          matchId  blue_win  LDA_Predict  NB_Predict  blueGold  Strategy 0  \\\n",
       "0      3493250918         0            0           0     24575           0   \n",
       "1      3464936341         0            0           1     27210           1   \n",
       "2      3428425921         1            1           1     32048           0   \n",
       "3      3428347390         0            0           0     20261           0   \n",
       "4      3428350940         1            1           1     30217           0   \n",
       "...           ...       ...          ...         ...       ...         ...   \n",
       "48646  3475682007         0            1           0     27013           1   \n",
       "48647  3500987969         1            1           1     25376           0   \n",
       "48648  3496592883         0            0           0     25456           0   \n",
       "48649  3491705900         1            1           1     27033           0   \n",
       "48650  3478246638         0            0           0     23194           0   \n",
       "\n",
       "       Strategy I  Strategy II  Strategy III  blueMinionsKilled  ...  \\\n",
       "0               1            1             0                349  ...   \n",
       "1               1            0             0                290  ...   \n",
       "2               0            0             1                346  ...   \n",
       "3               1            0             0                223  ...   \n",
       "4               0            0             1                376  ...   \n",
       "...           ...          ...           ...                ...  ...   \n",
       "48646           0            0             0                338  ...   \n",
       "48647           0            0             1                350  ...   \n",
       "48648           1            0             0                308  ...   \n",
       "48649           0            0             1                335  ...   \n",
       "48650           1            1             0                325  ...   \n",
       "\n",
       "       redJungleMinionsKilled  redAvgLevel  blueChampKills  blueHeraldKills  \\\n",
       "0                          80          9.2               6                1   \n",
       "1                          92          9.4              20                0   \n",
       "2                          84          9.4              17                3   \n",
       "3                         107          9.4               7                0   \n",
       "4                          60          8.8              16                3   \n",
       "...                       ...          ...             ...              ...   \n",
       "48646                      77          9.6              14                2   \n",
       "48647                      87          9.4               7                2   \n",
       "48648                      96          9.6               8                0   \n",
       "48649                      64          8.8              14                2   \n",
       "48650                      81          9.4               7                1   \n",
       "\n",
       "       blueDragonKills  blueTowersDestroyed  redChampKills  redHeraldKills  \\\n",
       "0                    0                    1             12               2   \n",
       "1                    0                    0             19               2   \n",
       "2                    0                    0             11               0   \n",
       "3                    0                    3             16               3   \n",
       "4                    0                    0              8               0   \n",
       "...                ...                  ...            ...             ...   \n",
       "48646                0                    2             21               0   \n",
       "48647                0                    0              5               1   \n",
       "48648                0                    2             17               3   \n",
       "48649                0                    0             12               0   \n",
       "48650                0                    2             13               1   \n",
       "\n",
       "       redDragonKills  redTowersDestroyed  \n",
       "0                   0                   1  \n",
       "1                   0                   0  \n",
       "2                   0                   4  \n",
       "3                   0                   0  \n",
       "4                   0                   2  \n",
       "...               ...                 ...  \n",
       "48646               0                   0  \n",
       "48647               0                   1  \n",
       "48648               0                   1  \n",
       "48649               0                   0  \n",
       "48650               0                   0  \n",
       "\n",
       "[48651 rows x 25 columns]"
      ]
     },
     "execution_count": 74,
     "metadata": {},
     "output_type": "execute_result"
    }
   ],
   "source": [
    "df"
   ]
  },
  {
   "cell_type": "code",
   "execution_count": 75,
   "id": "e6497711",
   "metadata": {},
   "outputs": [],
   "source": [
    "df.insert(9,'Strategy IV',0)"
   ]
  },
  {
   "cell_type": "code",
   "execution_count": 76,
   "id": "f4dabd67",
   "metadata": {},
   "outputs": [],
   "source": [
    "i=0\n",
    "for e in df['Strategy III']:\n",
    "    if df.loc[i,'KNN']==1:\n",
    "        df.loc[i,'Strategy IV']=1\n",
    "    else:\n",
    "        df.loc[i,'Strategy IV']=e\n",
    "    i+=1\n"
   ]
  },
  {
   "cell_type": "code",
   "execution_count": 77,
   "id": "9b0ec470",
   "metadata": {
    "scrolled": true
   },
   "outputs": [
    {
     "name": "stdout",
     "output_type": "stream",
     "text": [
      "0.5159400628969599\n",
      "[[  522 23540]\n",
      " [   10 24579]]\n"
     ]
    }
   ],
   "source": [
    "a=df['blue_win']\n",
    "b=df['Strategy IV']\n",
    "acc=accuracy_score(a,b)\n",
    "cf=confusion_matrix(a,b)\n",
    "print(acc)\n",
    "print(cf)"
   ]
  },
  {
   "cell_type": "code",
   "execution_count": 78,
   "id": "93e8df56",
   "metadata": {},
   "outputs": [
    {
     "name": "stdout",
     "output_type": "stream",
     "text": [
      "Strategy IV TPR:99.96%\n",
      "Strategy IV TNR:2.17%\n"
     ]
    }
   ],
   "source": [
    "S4_TPR=round(24579*100/(24579+10),2)\n",
    "S4_TNR=round(522*100/(522+23540),2)\n",
    "print(f'Strategy IV TPR:{S4_TPR}%')\n",
    "print(f'Strategy IV TNR:{S4_TNR}%')"
   ]
  },
  {
   "cell_type": "code",
   "execution_count": 79,
   "id": "a0884316",
   "metadata": {},
   "outputs": [],
   "source": [
    "df_blue= df_blue.reset_index(drop=True)"
   ]
  },
  {
   "cell_type": "markdown",
   "id": "e88eca37",
   "metadata": {},
   "source": [
    "## Get close to the winning team"
   ]
  },
  {
   "cell_type": "code",
   "execution_count": 80,
   "id": "835c51c4",
   "metadata": {},
   "outputs": [
    {
     "name": "stdout",
     "output_type": "stream",
     "text": [
      "0.6780674285249502\n"
     ]
    }
   ],
   "source": [
    "#For Blue Team wins, 16673 of 24589 has higher average level.\n",
    "i=-1\n",
    "n=0\n",
    "for e in df_blue['blueAvgLevel']:\n",
    "    i+=1\n",
    "    if e> df_blue.loc[i,'redAvgLevel']:\n",
    "        n+=1\n",
    "    else:\n",
    "        continue\n",
    "print(n/24589)"
   ]
  },
  {
   "cell_type": "code",
   "execution_count": 81,
   "id": "f34fcb0a",
   "metadata": {},
   "outputs": [
    {
     "name": "stdout",
     "output_type": "stream",
     "text": [
      "0.741917117410224\n"
     ]
    }
   ],
   "source": [
    "#For Blue Team wins, 16673 of 24589 has higher Champion Kills.\n",
    "i=-1\n",
    "n=0\n",
    "for e in df_blue['blueChampKills']:\n",
    "    i+=1\n",
    "    if e> df_blue.loc[i,'redChampKills']:\n",
    "        n+=1\n",
    "    else:\n",
    "        continue\n",
    "print(n/24589)"
   ]
  },
  {
   "cell_type": "code",
   "execution_count": 82,
   "id": "97ca1bd9",
   "metadata": {},
   "outputs": [
    {
     "name": "stdout",
     "output_type": "stream",
     "text": [
      "0.6590751962259547\n"
     ]
    }
   ],
   "source": [
    "#For Blue Team wins, 16673 of 24589 has higher Minions Kills.\n",
    "i=-1\n",
    "n=0\n",
    "for e in df_blue['blueMinionsKilled']:\n",
    "    i+=1\n",
    "    if e> df_blue.loc[i,'redMinionsKilled']:\n",
    "        n+=1\n",
    "    else:\n",
    "        continue\n",
    "print(n/24589)\n"
   ]
  },
  {
   "cell_type": "code",
   "execution_count": 83,
   "id": "ccbd9598",
   "metadata": {},
   "outputs": [
    {
     "name": "stdout",
     "output_type": "stream",
     "text": [
      "0.5896539102850868\n"
     ]
    }
   ],
   "source": [
    "#For Blue Team wins, 59% has higher jungle mininions killed\n",
    "\n",
    "i=-1\n",
    "n=0\n",
    "for e in df_blue['blueJungleMinionsKilled']:\n",
    "    i+=1\n",
    "    if e> df_blue.loc[i,'redJungleMinionsKilled']:\n",
    "        n+=1\n",
    "    else:\n",
    "        continue\n",
    "print(n/24589)"
   ]
  },
  {
   "cell_type": "code",
   "execution_count": 84,
   "id": "9dff5335",
   "metadata": {},
   "outputs": [
    {
     "name": "stdout",
     "output_type": "stream",
     "text": [
      "0.6093781772337225\n"
     ]
    }
   ],
   "source": [
    "#For Blue Team wins, 19354 of 24589 has higher Herald.\n",
    "\n",
    "i=-1\n",
    "n=0\n",
    "for e in df_blue['blueHeraldKills']:\n",
    "    i+=1\n",
    "    if e> df_blue.loc[i,'redHeraldKills']:\n",
    "        n+=1\n",
    "    else:\n",
    "        continue\n",
    "print(n/24589)"
   ]
  },
  {
   "cell_type": "code",
   "execution_count": 85,
   "id": "79831244",
   "metadata": {},
   "outputs": [
    {
     "name": "stdout",
     "output_type": "stream",
     "text": [
      "0.7870999227296759\n"
     ]
    }
   ],
   "source": [
    "#For Blue Team wins, 19354 of 24589 has higher gold.\n",
    "\n",
    "i=-1\n",
    "n=0\n",
    "for e in df_blue['blueGold']:\n",
    "    i+=1\n",
    "    if e> df_blue.loc[i,'redGold']:\n",
    "        n+=1\n",
    "    else:\n",
    "        continue\n",
    "print(n/24589)"
   ]
  },
  {
   "cell_type": "code",
   "execution_count": 86,
   "id": "3edd415a",
   "metadata": {
    "scrolled": true
   },
   "outputs": [
    {
     "name": "stdout",
     "output_type": "stream",
     "text": [
      "14572 6365 3652\n",
      "0.5926227174752938\n"
     ]
    }
   ],
   "source": [
    "#For Blue Team wins, 19354 of 24589 has less towers destroyed.\n",
    "\n",
    "i=-1\n",
    "n=0\n",
    "same=0\n",
    "dif=0\n",
    "for e in df_blue['blueTowersDestroyed']:\n",
    "    i+=1\n",
    "    if e< df_blue.loc[i,'redTowersDestroyed']:\n",
    "        n+=1\n",
    "    elif e==df_blue.loc[i,'redTowersDestroyed']:\n",
    "        same+=1\n",
    "    else:\n",
    "        dif+=1\n",
    "        continue\n",
    "print(n,same,dif)\n",
    "print(n/(n+same+dif))"
   ]
  },
  {
   "cell_type": "code",
   "execution_count": 87,
   "id": "b37751c7",
   "metadata": {},
   "outputs": [],
   "source": [
    "x=['blueAvgLevel','blueChampKills','blueMinionsKilled','blueJungleMinionsKilled','blueHeraldKills','blueGold','blueTowersDestroyed']\n",
    "y=[67.81,74.19,65.91,58.97,60.94,78.71,59.26]"
   ]
  },
  {
   "cell_type": "code",
   "execution_count": 88,
   "id": "94fe3f84",
   "metadata": {},
   "outputs": [
    {
     "data": {
      "image/png": "[encoded data removed]",
      "text/plain": [
       "<Figure size 640x480 with 1 Axes>"
      ]
     },
     "metadata": {},
     "output_type": "display_data"
    }
   ],
   "source": [
    "plt.bar(x, y, color='green')\n",
    "\n",
    "# Set plot labels\n",
    "plt.xlabel('Features')\n",
    "plt.ylabel('Win rates(%)')\n",
    "plt.title('Measuring Features in Winning Team')\n",
    "plt.xticks(rotation=45, ha='right')\n",
    "plt.yscale('log')\n",
    "plt.show()\n"
   ]
  }
 ],
 "metadata": {
  "kernelspec": {
   "display_name": "Python 3 (ipykernel)",
   "language": "python",
   "name": "python3"
  },
  "language_info": {
   "codemirror_mode": {
    "name": "ipython",
    "version": 3
   },
   "file_extension": ".py",
   "mimetype": "text/x-python",
   "name": "python",
   "nbconvert_exporter": "python",
   "pygments_lexer": "ipython3",
   "version": "3.11.4"
  }
 },
 "nbformat": 4,
 "nbformat_minor": 5
}
